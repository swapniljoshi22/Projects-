{
 "cells": [
  {
   "cell_type": "markdown",
   "metadata": {},
   "source": [
    "# URL"
   ]
  },
  {
   "cell_type": "code",
   "execution_count": 3,
   "metadata": {
    "ExecuteTime": {
     "end_time": "2021-09-20T09:14:28.884990Z",
     "start_time": "2021-09-20T09:14:28.870733Z"
    }
   },
   "outputs": [],
   "source": [
    "letter_url = 'https://www.letters-home.com/'"
   ]
  },
  {
   "cell_type": "markdown",
   "metadata": {},
   "source": [
    "# Libraries"
   ]
  },
  {
   "cell_type": "code",
   "execution_count": 2,
   "metadata": {
    "ExecuteTime": {
     "end_time": "2021-09-20T09:14:28.854838Z",
     "start_time": "2021-09-20T09:14:24.045308Z"
    }
   },
   "outputs": [],
   "source": [
    "import pandas as pd \n",
    "import numpy as np\n",
    "\n",
    "import string \n",
    "import spacy\n",
    "\n",
    "from nltk import tokenize\n",
    "\n",
    "import csv\n",
    "\n",
    "import requests\n",
    "from bs4 import BeautifulSoup\n",
    "\n",
    "from selenium import webdriver\n",
    "from webdriver_manager.chrome import ChromeDriverManager\n",
    "\n",
    "import matplotlib.pyplot as plt\n",
    "%matplotlib inline\n",
    "\n",
    "from wordcloud import wordcloud,STOPWORDS\n",
    "\n",
    "import warnings\n",
    "warnings.filterwarnings('ignore')\n",
    "\n",
    "pd.set_option('display.max_rows',None)"
   ]
  },
  {
   "cell_type": "markdown",
   "metadata": {},
   "source": [
    "# Category List Function"
   ]
  },
  {
   "cell_type": "code",
   "execution_count": 4,
   "metadata": {
    "ExecuteTime": {
     "end_time": "2021-09-20T09:14:35.002652Z",
     "start_time": "2021-09-20T09:14:34.064970Z"
    }
   },
   "outputs": [],
   "source": [
    "\n",
    "def get_cat_list(letter_url):\n",
    "    driver = requests.get(letter_url).text\n",
    "    soup = BeautifulSoup(driver,'html.parser')\n",
    "\n",
    "    category_list_html = soup.find('aside',{'class':'widget widget_categories'})\n",
    "    a_tag = category_list_html.find_all('a')\n",
    "\n",
    "    cat_list = []\n",
    "\n",
    "    for i in range (0,len(a_tag)):\n",
    "        cat_list.append(a_tag[i].text)\n",
    "    \n",
    "    for i in range (0,len(cat_list)):\n",
    "        cat_list[i] = cat_list[i].replace(' ','-')\n",
    "    return cat_list\n",
    "        \n",
    "cat_list0 = get_cat_list(letter_url)"
   ]
  },
  {
   "cell_type": "code",
   "execution_count": 7,
   "metadata": {
    "ExecuteTime": {
     "end_time": "2021-09-20T09:14:55.888835Z",
     "start_time": "2021-09-20T09:14:55.875870Z"
    }
   },
   "outputs": [
    {
     "name": "stdout",
     "output_type": "stream",
     "text": [
      "['Acceptance-Letters', 'Admission-Letters', 'Agreement-Letters', 'Announcement-Letters', 'Apology/Sorry-Letters', 'Appeal-Letters', 'Application-Letters', 'Appreciation-Letters', 'Authorization-Letters', 'Banking-Letters', 'Birthday-Letter', 'Break-Up-Letter', 'Business-Letters', 'Cancellation-Letter', 'Caring-Letter', 'Certification-Letter', 'Charity-Letters', 'Christmas-Letters', 'Claim-Letter', 'Collection-Letters', 'Complaint-Letters', 'Condolence-Letters', 'Confirmation-Letter', 'Congratulation-Letters', 'Consent-Letters', 'Consumer-Letters', 'Contract-Letter', 'Cover-Letters', 'Credit-Letter', 'Customer-Letters', 'Decline-Letter', 'Donation-Letters', 'Emails', 'Emotional-Letter', 'Employment-Letters', 'Farewell-Letters', 'Fax-Cover-Letters', 'Finance-Letters', 'Follow-up-Letters', 'Formal-Letter', 'Friendship-Letters', 'Fundraising-Letters', 'General-Letters', 'Good-Bye-Letters', 'Government-Letters', 'Grievance-Letters', 'Hardship-Lettrs', 'Holiday-Letters', 'Human-Letters', 'Inquiry-Letter', 'Intent', 'Internal-Communication-Letters', 'Internship-Letter', 'Interview-Letter', 'Introduction-Letters', 'Invitation-Letters', 'Job-Letters', 'Leave-Letters', 'Legal-Letters', 'Letters-of-Intent', 'Love-Letters', 'Marketing-Letters', 'Memo’s', 'Order-Letter', 'Permission-Letter', 'Personal-Letters', 'Press-Release', 'Promotion-Letters', 'Proposal-Letter', 'Recommendation-Letters', 'Reference-Letters', 'Request-Letters', 'Resignation-Letters', 'Resume-Cover-Letters', 'Resume-Samples-&-Cover-Letters', 'Retirement-Letters', 'Romantic-Letters', 'Sales-&-Marketing-Letters', 'Sales-Letters', 'Scholarship-Letters', 'Sorry-Letter', 'Statement-Letters', 'Supplier-Letters', 'Sympathy-Letters', 'Termination-Letters', 'Thank-You-Letters', 'Uncategorized', 'Wacky-Letters', 'Warning-Letter', 'Welcome-Letters']\n"
     ]
    }
   ],
   "source": [
    "print(cat_list0)"
   ]
  },
  {
   "cell_type": "code",
   "execution_count": 8,
   "metadata": {
    "ExecuteTime": {
     "end_time": "2021-09-20T09:14:57.001263Z",
     "start_time": "2021-09-20T09:14:56.991291Z"
    }
   },
   "outputs": [
    {
     "data": {
      "text/plain": [
       "90"
      ]
     },
     "execution_count": 8,
     "metadata": {},
     "output_type": "execute_result"
    }
   ],
   "source": [
    "len(cat_list0)"
   ]
  },
  {
   "cell_type": "markdown",
   "metadata": {},
   "source": [
    "## Removing unwanted categories that are not required"
   ]
  },
  {
   "cell_type": "code",
   "execution_count": 9,
   "metadata": {
    "ExecuteTime": {
     "end_time": "2021-09-20T09:14:58.074577Z",
     "start_time": "2021-09-20T09:14:58.062577Z"
    }
   },
   "outputs": [],
   "source": [
    "unwanted_cat = ['Agreement-Letters','Appeal-Letters','Break-Up-Letter','Caring-Letter','Christmas-Letters',\n",
    "'Charity-Letters','Cover-Letters','Collection-Letters','Consent-Letters','Contract-Letter',\n",
    "'Credit-Letter','Donation-Letters','Emotional-Letter','Farewell-Letters','Fax-Cover-Letters',\n",
    "'Follow-up-Letters','Friendship-Letters','Fundraising-Letters','Good-Bye-Letters','Hardship-Lettrs',\n",
    "'Human-Letters','Intent','Internal-Communication-Letters','Legal-Letters','Letters-of-Intent','Love-Letters',\n",
    "'Memo’s','Press-Release','Promotion-Letters','Proposal-Letter','Resume-Cover-Letters','Resume-Samples-&-Cover-Letters',\n",
    "'Romantic-Letters','Sympathy-Letters','Uncategorised','Wacky-Letters','Warning-Letter']"
   ]
  },
  {
   "cell_type": "code",
   "execution_count": 10,
   "metadata": {
    "ExecuteTime": {
     "end_time": "2021-09-20T09:15:00.777728Z",
     "start_time": "2021-09-20T09:15:00.769746Z"
    }
   },
   "outputs": [],
   "source": [
    "cat_list = [x for x in cat_list0 if x not in unwanted_cat]"
   ]
  },
  {
   "cell_type": "code",
   "execution_count": 11,
   "metadata": {
    "ExecuteTime": {
     "end_time": "2021-09-20T09:15:01.715813Z",
     "start_time": "2021-09-20T09:15:01.712813Z"
    }
   },
   "outputs": [
    {
     "data": {
      "text/plain": [
       "54"
      ]
     },
     "execution_count": 11,
     "metadata": {},
     "output_type": "execute_result"
    }
   ],
   "source": [
    "len(cat_list)"
   ]
  },
  {
   "cell_type": "code",
   "execution_count": 12,
   "metadata": {
    "ExecuteTime": {
     "end_time": "2021-09-20T09:15:03.080370Z",
     "start_time": "2021-09-20T09:15:03.070398Z"
    }
   },
   "outputs": [
    {
     "name": "stdout",
     "output_type": "stream",
     "text": [
      "['Acceptance-Letters', 'Admission-Letters', 'Announcement-Letters', 'Apology/Sorry-Letters', 'Application-Letters', 'Appreciation-Letters', 'Authorization-Letters', 'Banking-Letters', 'Birthday-Letter', 'Business-Letters', 'Cancellation-Letter', 'Certification-Letter', 'Claim-Letter', 'Complaint-Letters', 'Condolence-Letters', 'Confirmation-Letter', 'Congratulation-Letters', 'Consumer-Letters', 'Customer-Letters', 'Decline-Letter', 'Emails', 'Employment-Letters', 'Finance-Letters', 'Formal-Letter', 'General-Letters', 'Government-Letters', 'Grievance-Letters', 'Holiday-Letters', 'Inquiry-Letter', 'Internship-Letter', 'Interview-Letter', 'Introduction-Letters', 'Invitation-Letters', 'Job-Letters', 'Leave-Letters', 'Marketing-Letters', 'Order-Letter', 'Permission-Letter', 'Personal-Letters', 'Recommendation-Letters', 'Reference-Letters', 'Request-Letters', 'Resignation-Letters', 'Retirement-Letters', 'Sales-&-Marketing-Letters', 'Sales-Letters', 'Scholarship-Letters', 'Sorry-Letter', 'Statement-Letters', 'Supplier-Letters', 'Termination-Letters', 'Thank-You-Letters', 'Uncategorized', 'Welcome-Letters']\n"
     ]
    }
   ],
   "source": [
    "print(cat_list)"
   ]
  },
  {
   "cell_type": "markdown",
   "metadata": {},
   "source": [
    "# Extracting Data"
   ]
  },
  {
   "cell_type": "code",
   "execution_count": 13,
   "metadata": {
    "ExecuteTime": {
     "end_time": "2021-09-20T09:48:52.738134Z",
     "start_time": "2021-09-20T09:15:11.404941Z"
    },
    "scrolled": true
   },
   "outputs": [],
   "source": [
    "letter = []\n",
    "title = []\n",
    "cat_list_f = []\n",
    "for i in range (0,len(cat_list)):\n",
    "    cat_list_item = cat_list[i]\n",
    "    for p in range (1,15):\n",
    "        final_url = letter_url+'category/'+cat_list_item+'/page/{}/'.format(p)\n",
    "        driver0 = requests.get(final_url).text\n",
    "        soup = BeautifulSoup(driver0,'html.parser')\n",
    "        div_tag = soup.find_all('div',{'class':'heatmapthemead-article'})\n",
    "        title0=[]\n",
    "        for t in range(0,5):\n",
    "            try:\n",
    "                t_title = div_tag[t].find_all('h2',{'class':'entry-title h2-simulate-h1'})[0].text\n",
    "                title0.append(t_title)\n",
    "                title.append(t_title)\n",
    "                cat_list_f.append(cat_list_item)\n",
    "            except:\n",
    "                pass\n",
    "            #print(p)\n",
    "        for l in range(0,5):\n",
    "            try:\n",
    "                title0[l] = title0[l].replace(' ','-')\n",
    "                l_url = letter_url+cat_list_item+'/'+title0[l]\n",
    "                driver1 = requests.get(l_url).text\n",
    "                soup = BeautifulSoup(driver1,'html.parser')\n",
    "                let = soup.find_all('div',{'class':'entry-content'})\n",
    "                letter.append(let[0].text)\n",
    "            except:\n",
    "                pass\n",
    "            \n",
    "        if soup.find_all('div',{'class':'nav-previous'}) != []:\n",
    "            pass\n",
    "        else:\n",
    "            break"
   ]
  },
  {
   "cell_type": "code",
   "execution_count": null,
   "metadata": {
    "ExecuteTime": {
     "end_time": "2021-09-13T17:57:08.764516Z",
     "start_time": "2021-09-13T17:55:09.184Z"
    }
   },
   "outputs": [],
   "source": [
    "#del title[1541]"
   ]
  },
  {
   "cell_type": "code",
   "execution_count": 14,
   "metadata": {
    "ExecuteTime": {
     "end_time": "2021-09-20T10:07:17.134701Z",
     "start_time": "2021-09-20T10:07:17.115751Z"
    }
   },
   "outputs": [
    {
     "data": {
      "text/plain": [
       "1574"
      ]
     },
     "execution_count": 14,
     "metadata": {},
     "output_type": "execute_result"
    }
   ],
   "source": [
    "len(letter)"
   ]
  },
  {
   "cell_type": "code",
   "execution_count": 15,
   "metadata": {
    "ExecuteTime": {
     "end_time": "2021-09-20T10:07:18.292482Z",
     "start_time": "2021-09-20T10:07:18.286534Z"
    }
   },
   "outputs": [
    {
     "data": {
      "text/plain": [
       "1574"
      ]
     },
     "execution_count": 15,
     "metadata": {},
     "output_type": "execute_result"
    }
   ],
   "source": [
    "len(title)"
   ]
  },
  {
   "cell_type": "code",
   "execution_count": 17,
   "metadata": {
    "ExecuteTime": {
     "end_time": "2021-09-20T11:26:09.817327Z",
     "start_time": "2021-09-20T11:26:09.626553Z"
    }
   },
   "outputs": [
    {
     "data": {
      "text/html": [
       "<div>\n",
       "<style scoped>\n",
       "    .dataframe tbody tr th:only-of-type {\n",
       "        vertical-align: middle;\n",
       "    }\n",
       "\n",
       "    .dataframe tbody tr th {\n",
       "        vertical-align: top;\n",
       "    }\n",
       "\n",
       "    .dataframe thead th {\n",
       "        text-align: right;\n",
       "    }\n",
       "</style>\n",
       "<table border=\"1\" class=\"dataframe\">\n",
       "  <thead>\n",
       "    <tr style=\"text-align: right;\">\n",
       "      <th></th>\n",
       "      <th>Category</th>\n",
       "      <th>Title</th>\n",
       "      <th>Body</th>\n",
       "    </tr>\n",
       "  </thead>\n",
       "  <tbody>\n",
       "    <tr>\n",
       "      <th>0</th>\n",
       "      <td>Acceptance-Letters</td>\n",
       "      <td>Elementary School Admission Letter</td>\n",
       "      <td>From,\\nMrs Cruz,\\nE-2, Bakers Street,\\nLondon\\...</td>\n",
       "    </tr>\n",
       "    <tr>\n",
       "      <th>1</th>\n",
       "      <td>Acceptance-Letters</td>\n",
       "      <td>Academy Admission Letter</td>\n",
       "      <td>From,\\nMs Electra,\\n13B, Whistling Towers,\\nAr...</td>\n",
       "    </tr>\n",
       "    <tr>\n",
       "      <th>2</th>\n",
       "      <td>Acceptance-Letters</td>\n",
       "      <td>College Admissions Recommendation Letter</td>\n",
       "      <td>From,\\nMr Warden,\\nPrincipal,\\nSt. Louis Degre...</td>\n",
       "    </tr>\n",
       "    <tr>\n",
       "      <th>3</th>\n",
       "      <td>Acceptance-Letters</td>\n",
       "      <td>Decline Admission Letter</td>\n",
       "      <td>From,\\nMr Richardson,\\nPrincipal,\\nImperial Co...</td>\n",
       "    </tr>\n",
       "    <tr>\n",
       "      <th>4</th>\n",
       "      <td>Acceptance-Letters</td>\n",
       "      <td>Harvard Acceptance Letter</td>\n",
       "      <td>From,\\nMr Williamson,\\nSports Goods and Equipm...</td>\n",
       "    </tr>\n",
       "    <tr>\n",
       "      <th>5</th>\n",
       "      <td>Acceptance-Letters</td>\n",
       "      <td>Program Acceptance Letter</td>\n",
       "      <td>From,\\nMs Finnegan,\\nShow Organiser,\\nRising S...</td>\n",
       "    </tr>\n",
       "    <tr>\n",
       "      <th>6</th>\n",
       "      <td>Acceptance-Letters</td>\n",
       "      <td>Software Acceptance Letter</td>\n",
       "      <td>From\\nMr Robinson,\\nHead of Security Departmen...</td>\n",
       "    </tr>\n",
       "    <tr>\n",
       "      <th>7</th>\n",
       "      <td>Acceptance-Letters</td>\n",
       "      <td>Application Acceptance Letter</td>\n",
       "      <td>From,\\nMrs Carmen,\\nHuman Resource Officer,\\nK...</td>\n",
       "    </tr>\n",
       "    <tr>\n",
       "      <th>8</th>\n",
       "      <td>Acceptance-Letters</td>\n",
       "      <td>College Acceptance Letter</td>\n",
       "      <td>To:\\nMs. Kalpana Duggal\\n354, Park View Apartm...</td>\n",
       "    </tr>\n",
       "    <tr>\n",
       "      <th>9</th>\n",
       "      <td>Acceptance-Letters</td>\n",
       "      <td>Project Acceptance Letter</td>\n",
       "      <td>Ms. Nandana Purjab\\nPresident\\nTriple A Constr...</td>\n",
       "    </tr>\n",
       "    <tr>\n",
       "      <th>10</th>\n",
       "      <td>Acceptance-Letters</td>\n",
       "      <td>Sponsorship Acceptance Letter</td>\n",
       "      <td>Ms. Namita Setty\\nPresident\\nGreat Buy Company...</td>\n",
       "    </tr>\n",
       "  </tbody>\n",
       "</table>\n",
       "</div>"
      ],
      "text/plain": [
       "              Category                                     Title  \\\n",
       "0   Acceptance-Letters        Elementary School Admission Letter   \n",
       "1   Acceptance-Letters                  Academy Admission Letter   \n",
       "2   Acceptance-Letters  College Admissions Recommendation Letter   \n",
       "3   Acceptance-Letters                  Decline Admission Letter   \n",
       "4   Acceptance-Letters                 Harvard Acceptance Letter   \n",
       "5   Acceptance-Letters                 Program Acceptance Letter   \n",
       "6   Acceptance-Letters                Software Acceptance Letter   \n",
       "7   Acceptance-Letters             Application Acceptance Letter   \n",
       "8   Acceptance-Letters                 College Acceptance Letter   \n",
       "9   Acceptance-Letters                 Project Acceptance Letter   \n",
       "10  Acceptance-Letters             Sponsorship Acceptance Letter   \n",
       "\n",
       "                                                 Body  \n",
       "0   From,\\nMrs Cruz,\\nE-2, Bakers Street,\\nLondon\\...  \n",
       "1   From,\\nMs Electra,\\n13B, Whistling Towers,\\nAr...  \n",
       "2   From,\\nMr Warden,\\nPrincipal,\\nSt. Louis Degre...  \n",
       "3   From,\\nMr Richardson,\\nPrincipal,\\nImperial Co...  \n",
       "4   From,\\nMr Williamson,\\nSports Goods and Equipm...  \n",
       "5   From,\\nMs Finnegan,\\nShow Organiser,\\nRising S...  \n",
       "6   From\\nMr Robinson,\\nHead of Security Departmen...  \n",
       "7   From,\\nMrs Carmen,\\nHuman Resource Officer,\\nK...  \n",
       "8   To:\\nMs. Kalpana Duggal\\n354, Park View Apartm...  \n",
       "9   Ms. Nandana Purjab\\nPresident\\nTriple A Constr...  \n",
       "10  Ms. Namita Setty\\nPresident\\nGreat Buy Company...  "
      ]
     },
     "execution_count": 17,
     "metadata": {},
     "output_type": "execute_result"
    }
   ],
   "source": [
    "data = pd.DataFrame({'Category':cat_list_f,'Title': title, 'Body': letter})\n",
    "filename='templates.xls'\n",
    "data.to_excel(filename,index=False)\n",
    "data.head(11)"
   ]
  },
  {
   "cell_type": "code",
   "execution_count": 18,
   "metadata": {
    "ExecuteTime": {
     "end_time": "2021-09-19T12:53:33.455370Z",
     "start_time": "2021-09-19T12:53:33.436592Z"
    }
   },
   "outputs": [
    {
     "name": "stdout",
     "output_type": "stream",
     "text": [
      "Nursing Resignation Letter\n",
      "\n",
      "\n",
      "Dear Dr. Mensah,\n",
      "RE: RESIGNATION LETTERI tender this letter as my formal resignation from the position of Critical Nurse (Intensive Care Unit) in Pandya Hospital. My last day in employment at this hospital is 30 September 2006.\n",
      "I have accepted a position as Senior Critical Nurse – Intensive Care  Unit in Aga Khan Hospital. This position, I believe, will have more  challenges for me and will also be a good opportunity to advance my  skills and broaden my knowledge and experience. I would like to take  this opportunity to thank you and the working team in the Intensive Care Unit for the support and guidance accorded to me.\n",
      "I continue wishing you and the hospital every success.\n",
      "Yours sincerely,\n",
      "Download Sample Nursing Resignation Letter In Word Format\n",
      "\n",
      "No Related Sample Letter.\n",
      "\n",
      "\n"
     ]
    }
   ],
   "source": [
    "print(title[1543])\n",
    "print('\\n')\n",
    "print(letter[1543])"
   ]
  },
  {
   "cell_type": "code",
   "execution_count": null,
   "metadata": {},
   "outputs": [],
   "source": []
  }
 ],
 "metadata": {
  "kernelspec": {
   "display_name": "Python 3",
   "language": "python",
   "name": "python3"
  },
  "language_info": {
   "codemirror_mode": {
    "name": "ipython",
    "version": 3
   },
   "file_extension": ".py",
   "mimetype": "text/x-python",
   "name": "python",
   "nbconvert_exporter": "python",
   "pygments_lexer": "ipython3",
   "version": "3.8.3"
  },
  "varInspector": {
   "cols": {
    "lenName": 16,
    "lenType": 16,
    "lenVar": 40
   },
   "kernels_config": {
    "python": {
     "delete_cmd_postfix": "",
     "delete_cmd_prefix": "del ",
     "library": "var_list.py",
     "varRefreshCmd": "print(var_dic_list())"
    },
    "r": {
     "delete_cmd_postfix": ") ",
     "delete_cmd_prefix": "rm(",
     "library": "var_list.r",
     "varRefreshCmd": "cat(var_dic_list()) "
    }
   },
   "types_to_exclude": [
    "module",
    "function",
    "builtin_function_or_method",
    "instance",
    "_Feature"
   ],
   "window_display": false
  }
 },
 "nbformat": 4,
 "nbformat_minor": 4
}
