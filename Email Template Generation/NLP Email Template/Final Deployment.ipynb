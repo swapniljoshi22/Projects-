{
 "cells": [
  {
   "cell_type": "markdown",
   "metadata": {},
   "source": [
    "# For running the final deployment run the last cell only"
   ]
  },
  {
   "cell_type": "markdown",
   "metadata": {},
   "source": [
    "# Importing Libraries"
   ]
  },
  {
   "cell_type": "code",
   "execution_count": 10,
   "metadata": {
    "ExecuteTime": {
     "end_time": "2021-10-10T12:52:51.102147Z",
     "start_time": "2021-10-10T12:52:50.762449Z"
    }
   },
   "outputs": [],
   "source": [
    "import numpy as np\n",
    "import pandas as pd \n",
    "import string\n",
    "import warnings\n",
    "warnings.filterwarnings('ignore')\n",
    "import re\n",
    "\n",
    "#from textblob import TextBlob\n",
    "\n",
    "import nltk\n",
    "#nltk.download('punkt')\n",
    "#nltk.download('wordnet')\n",
    "\n",
    "import spacy\n",
    "\n",
    "from nltk.corpus import stopwords\n",
    "\n",
    "#Stemming\n",
    "#from nltk.stem import PorterStemmer\n",
    "#stemmer = PorterStemmer()\n",
    "\n",
    "#Lemmetization\n",
    "from nltk.stem import WordNetLemmatizer\n",
    "lemmetizer = WordNetLemmatizer()\n",
    "\n",
    "from flask import Flask, redirect, url_for, request,render_template\n",
    "\n",
    "#Initializing spacy model\n",
    "nlp = spacy.load('en_core_web_sm')\n",
    "\n",
    "#Words that we do not require after tokenization in the search term and the title column as well\n",
    "unwanted_words = ['Email','Sample','Letter','Template','email','sample','letter','template','to','To']\n",
    "\n",
    "#Punctuations\n",
    "#punctuations = '''()-[]{};:'\"\\,<>./?@#$%^&*_`~'''\n",
    "\n",
    "#Stopwords\n",
    "stop_words = stopwords.words('english')"
   ]
  },
  {
   "cell_type": "markdown",
   "metadata": {},
   "source": [
    "# Importing Dataset and Data Preprocessing"
   ]
  },
  {
   "cell_type": "code",
   "execution_count": 11,
   "metadata": {
    "ExecuteTime": {
     "end_time": "2021-10-10T12:53:33.062215Z",
     "start_time": "2021-10-10T12:52:57.441812Z"
    }
   },
   "outputs": [
    {
     "data": {
      "text/html": [
       "<div>\n",
       "<style scoped>\n",
       "    .dataframe tbody tr th:only-of-type {\n",
       "        vertical-align: middle;\n",
       "    }\n",
       "\n",
       "    .dataframe tbody tr th {\n",
       "        vertical-align: top;\n",
       "    }\n",
       "\n",
       "    .dataframe thead th {\n",
       "        text-align: right;\n",
       "    }\n",
       "</style>\n",
       "<table border=\"1\" class=\"dataframe\">\n",
       "  <thead>\n",
       "    <tr style=\"text-align: right;\">\n",
       "      <th></th>\n",
       "      <th>Category</th>\n",
       "      <th>Search_column</th>\n",
       "      <th>Title</th>\n",
       "      <th>Body</th>\n",
       "    </tr>\n",
       "  </thead>\n",
       "  <tbody>\n",
       "    <tr>\n",
       "      <th>0</th>\n",
       "      <td>Acceptance Emails</td>\n",
       "      <td>[Elementary, School, Admission]</td>\n",
       "      <td>Elementary School Admission Email</td>\n",
       "      <td>To: [Email id]\\n\\nSubject: [Subject]\\n\\n[Salut...</td>\n",
       "    </tr>\n",
       "    <tr>\n",
       "      <th>1</th>\n",
       "      <td>Acceptance Emails</td>\n",
       "      <td>[Academy, Admission]</td>\n",
       "      <td>Academy Admission Email</td>\n",
       "      <td>To: [Email id]\\n\\nSubject: [Subject]\\n\\n[Salut...</td>\n",
       "    </tr>\n",
       "    <tr>\n",
       "      <th>2</th>\n",
       "      <td>Acceptance Emails</td>\n",
       "      <td>[College, Admissions, Recommendation]</td>\n",
       "      <td>College Admissions Recommendation Email</td>\n",
       "      <td>To: [Email id]\\n\\nSubject: [Subject]\\n\\n[Salut...</td>\n",
       "    </tr>\n",
       "    <tr>\n",
       "      <th>3</th>\n",
       "      <td>Acceptance Emails</td>\n",
       "      <td>[Decline, Admission]</td>\n",
       "      <td>Decline Admission Email</td>\n",
       "      <td>To: [Email id]\\n\\nSubject: [Subject]\\n\\n[Salut...</td>\n",
       "    </tr>\n",
       "    <tr>\n",
       "      <th>4</th>\n",
       "      <td>Acceptance Emails</td>\n",
       "      <td>[Harvard, Acceptance]</td>\n",
       "      <td>Harvard Acceptance Email</td>\n",
       "      <td>To: [Email id]\\n\\nSubject: [Subject]\\n\\n[Salut...</td>\n",
       "    </tr>\n",
       "  </tbody>\n",
       "</table>\n",
       "</div>"
      ],
      "text/plain": [
       "            Category                          Search_column  \\\n",
       "0  Acceptance Emails        [Elementary, School, Admission]   \n",
       "1  Acceptance Emails                   [Academy, Admission]   \n",
       "2  Acceptance Emails  [College, Admissions, Recommendation]   \n",
       "3  Acceptance Emails                   [Decline, Admission]   \n",
       "4  Acceptance Emails                  [Harvard, Acceptance]   \n",
       "\n",
       "                                     Title  \\\n",
       "0        Elementary School Admission Email   \n",
       "1                  Academy Admission Email   \n",
       "2  College Admissions Recommendation Email   \n",
       "3                  Decline Admission Email   \n",
       "4                 Harvard Acceptance Email   \n",
       "\n",
       "                                                Body  \n",
       "0  To: [Email id]\\n\\nSubject: [Subject]\\n\\n[Salut...  \n",
       "1  To: [Email id]\\n\\nSubject: [Subject]\\n\\n[Salut...  \n",
       "2  To: [Email id]\\n\\nSubject: [Subject]\\n\\n[Salut...  \n",
       "3  To: [Email id]\\n\\nSubject: [Subject]\\n\\n[Salut...  \n",
       "4  To: [Email id]\\n\\nSubject: [Subject]\\n\\n[Salut...  "
      ]
     },
     "execution_count": 11,
     "metadata": {},
     "output_type": "execute_result"
    }
   ],
   "source": [
    "#Reading the data set and preprocessing\n",
    "data = pd.read_excel('templates.xls')\n",
    "data = data.dropna()\n",
    "data = data.reset_index(drop=True)\n",
    "\n",
    "#Replacing 'Letter' with 'Email' || Replacing '-' with ' ' in the cat column\n",
    "for i in range (0,len(data)):\n",
    "    data.iloc[i,0] = data.iloc[i,0].replace('Letter','Email')\n",
    "    data.iloc[i,0] = data.iloc[i,0].replace('letter','Email')\n",
    "    data.iloc[i,1] = data.iloc[i,1].replace('Letter','Email')\n",
    "    data.iloc[i,1] = data.iloc[i,1].replace('letter','Email')\n",
    "    data.iloc[i,0] = data.iloc[i,0].replace('-',' ')\n",
    "\n",
    "#Adding Search column which will contain tokens of title and arranging the columns in order    \n",
    "data['Search_column'] = ''\n",
    "data = data[[\"Category\",\"Search_column\", \"Title\", \"Body\"]]\n",
    "\n",
    "#Removing the 'Download Related Samples...' from footer\n",
    "for i in range (0,len(data)):\n",
    "    txt = data.iloc[i,3]\n",
    "    txt0 = txt.split('\\nDownload ')[0]\n",
    "    data.iloc[i,3] = txt0\n",
    "\n",
    "#Removing address fields\n",
    "for i in range (0,len(data)):\n",
    "    list0 = data.Body[i].split('\\n')\n",
    "    list1 = []\n",
    "    for string in list0:\n",
    "        if len(string)> 50:\n",
    "            list1.append(string)\n",
    "    body = 'To: [Email id]\\n\\nSubject: [Subject]\\n\\n[Salutation]\\n\\n'\n",
    "    for j in list1:\n",
    "        body = body + j + '\\n\\n'\n",
    "    body = body + '[Closure]\\n\\n'+'[Name/Signature]\\n'+'[Designation]\\n'+'[Organization]\\n'\n",
    "    body = body.replace('Letter','Email')\n",
    "    body = body.replace('letter','email')\n",
    "    #print(body)\n",
    "    data.iloc[i,3] = body\n",
    "\n",
    "#Preprocessing the title column\n",
    "for i in range (0,len(data)):\n",
    "    tex = str(data.Title[i])\n",
    "    tex_p = ''\n",
    "    #for char in tex:\n",
    "    #    if (char not in punctuations):\n",
    "    #        tex_p = tex_p+char\n",
    "    tex_p = re.sub(r'[^\\w\\s]','',tex)\n",
    "    tex_p = tex_p.strip()\n",
    "    tex_a = nltk.word_tokenize(tex_p)\n",
    "    tex_s=[]\n",
    "    for word in tex_a:\n",
    "        if (word not in stop_words):\n",
    "            tex_s.append(word)\n",
    "    tex_l = []\n",
    "    for word in tex_s:\n",
    "        tex_l.append(lemmetizer.lemmatize(word))\n",
    "    tex_f = []\n",
    "    for word in tex_l:\n",
    "        if word not in unwanted_words:\n",
    "            tex_f.append(word)\n",
    "        else:\n",
    "            pass\n",
    "    data.iloc[i,1] = tex_f\n",
    "\n",
    "#Named Entity Recognition (Replacing named entities with their tags)\n",
    "for i in range(0,len(data)):\n",
    "    s= data.Body[i]\n",
    "    doc = nlp(s)\n",
    "    newString = s\n",
    "    for e in reversed(doc.ents): #reversed to not modify the offsets of other entities when substituting\n",
    "        start = e.start_char\n",
    "        end = start + len(e.text)\n",
    "        newString = newString[:start] + '[' + e.label_ + ']' + newString[end:]\n",
    "    data.Body[i] = newString\n",
    "    \n",
    "data.head()"
   ]
  },
  {
   "cell_type": "markdown",
   "metadata": {},
   "source": [
    "# EDA"
   ]
  },
  {
   "cell_type": "code",
   "execution_count": 4,
   "metadata": {
    "ExecuteTime": {
     "end_time": "2021-10-09T13:05:46.483614Z",
     "start_time": "2021-10-09T13:05:46.477794Z"
    }
   },
   "outputs": [
    {
     "data": {
      "text/plain": [
       "(1574, 4)"
      ]
     },
     "execution_count": 4,
     "metadata": {},
     "output_type": "execute_result"
    }
   ],
   "source": [
    "data.shape"
   ]
  },
  {
   "cell_type": "markdown",
   "metadata": {},
   "source": [
    "Dataset contains 1574 entries and 4 columns"
   ]
  },
  {
   "cell_type": "code",
   "execution_count": 5,
   "metadata": {
    "ExecuteTime": {
     "end_time": "2021-10-09T13:06:34.895334Z",
     "start_time": "2021-10-09T13:06:34.888316Z"
    }
   },
   "outputs": [
    {
     "data": {
      "text/plain": [
       "Index(['Category', 'Search_column', 'Title', 'Body'], dtype='object')"
      ]
     },
     "execution_count": 5,
     "metadata": {},
     "output_type": "execute_result"
    }
   ],
   "source": [
    "data.columns"
   ]
  },
  {
   "cell_type": "markdown",
   "metadata": {},
   "source": [
    "The dataset consists of 4 columns namely 'Category', 'Search_column', 'Title' and 'Body'.\n",
    "<br>Dataset altogether consists of 1574 Email templates."
   ]
  },
  {
   "cell_type": "code",
   "execution_count": 6,
   "metadata": {
    "ExecuteTime": {
     "end_time": "2021-10-09T13:06:36.620466Z",
     "start_time": "2021-10-09T13:06:36.607416Z"
    }
   },
   "outputs": [
    {
     "name": "stdout",
     "output_type": "stream",
     "text": [
      "<class 'pandas.core.frame.DataFrame'>\n",
      "RangeIndex: 1574 entries, 0 to 1573\n",
      "Data columns (total 4 columns):\n",
      " #   Column         Non-Null Count  Dtype \n",
      "---  ------         --------------  ----- \n",
      " 0   Category       1574 non-null   object\n",
      " 1   Search_column  1574 non-null   object\n",
      " 2   Title          1574 non-null   object\n",
      " 3   Body           1574 non-null   object\n",
      "dtypes: object(4)\n",
      "memory usage: 49.3+ KB\n"
     ]
    }
   ],
   "source": [
    "data.info()"
   ]
  },
  {
   "cell_type": "markdown",
   "metadata": {},
   "source": [
    "As we can see that there are no null values."
   ]
  },
  {
   "cell_type": "code",
   "execution_count": 7,
   "metadata": {
    "ExecuteTime": {
     "end_time": "2021-10-09T13:06:38.622185Z",
     "start_time": "2021-10-09T13:06:38.612311Z"
    }
   },
   "outputs": [
    {
     "name": "stdout",
     "output_type": "stream",
     "text": [
      "Length: 53\n",
      "\n"
     ]
    },
    {
     "data": {
      "text/plain": [
       "array(['Acceptance Emails', 'Admission Emails', 'Announcement Emails',\n",
       "       'Application Emails', 'Appreciation Emails',\n",
       "       'Authorization Emails', 'Banking Emails', 'Birthday Email',\n",
       "       'Business Emails', 'Cancellation Email', 'Certification Email',\n",
       "       'Claim Email', 'Complaint Emails', 'Condolence Emails',\n",
       "       'Confirmation Email', 'Congratulation Emails', 'Consumer Emails',\n",
       "       'Customer Emails', 'Decline Email', 'Emails', 'Employment Emails',\n",
       "       'Finance Emails', 'Formal Email', 'General Emails',\n",
       "       'Government Emails', 'Grievance Emails', 'Holiday Emails',\n",
       "       'Inquiry Email', 'Internship Email', 'Interview Email',\n",
       "       'Introduction Emails', 'Invitation Emails', 'Job Emails',\n",
       "       'Leave Emails', 'Marketing Emails', 'Order Email',\n",
       "       'Permission Email', 'Personal Emails', 'Recommendation Emails',\n",
       "       'Reference Emails', 'Request Emails', 'Resignation Emails',\n",
       "       'Retirement Emails', 'Sales & Marketing Emails', 'Sales Emails',\n",
       "       'Scholarship Emails', 'Sorry Email', 'Statement Emails',\n",
       "       'Supplier Emails', 'Termination Emails', 'Thank You Emails',\n",
       "       'Uncategorized', 'Welcome Emails'], dtype=object)"
      ]
     },
     "execution_count": 7,
     "metadata": {},
     "output_type": "execute_result"
    }
   ],
   "source": [
    "print('Length: '+str(len(data.Category.unique()))+'\\n')\n",
    "data.Category.unique()"
   ]
  },
  {
   "cell_type": "markdown",
   "metadata": {},
   "source": [
    "As we can see that there are 53 Categories as shown above.\n",
    "\n",
    "The title column shows the title of each Email\n",
    "\n",
    "The Search_Column consists of the tokens from the title column for matching the keywords.\n",
    "\n",
    "The Body column consists of templates of the email."
   ]
  },
  {
   "cell_type": "markdown",
   "metadata": {},
   "source": [
    "# Search Term Input and Processing"
   ]
  },
  {
   "cell_type": "code",
   "execution_count": 3,
   "metadata": {
    "ExecuteTime": {
     "end_time": "2021-10-10T12:52:33.971655Z",
     "start_time": "2021-10-10T12:52:23.039916Z"
    }
   },
   "outputs": [
    {
     "name": "stdout",
     "output_type": "stream",
     "text": [
      "Search Email Templates:\n",
      "\n",
      "Sick Leave email template to Boss?\"?\"\n"
     ]
    }
   ],
   "source": [
    "g_text = input('Search Email Templates:\\n\\n')"
   ]
  },
  {
   "cell_type": "code",
   "execution_count": 4,
   "metadata": {
    "ExecuteTime": {
     "end_time": "2021-10-10T12:52:36.009620Z",
     "start_time": "2021-10-10T12:52:35.999680Z"
    }
   },
   "outputs": [
    {
     "data": {
      "text/plain": [
       "'Sick Leave email template to Boss'"
      ]
     },
     "execution_count": 4,
     "metadata": {},
     "output_type": "execute_result"
    }
   ],
   "source": [
    "text=''\n",
    "text = re.sub(r'[^\\w\\s]','',g_text)\n",
    "text"
   ]
  },
  {
   "cell_type": "code",
   "execution_count": 5,
   "metadata": {
    "ExecuteTime": {
     "end_time": "2021-10-10T12:52:36.464224Z",
     "start_time": "2021-10-10T12:52:36.449232Z"
    }
   },
   "outputs": [],
   "source": [
    "#text=''\n",
    "#for char in g_text:\n",
    "#    if (char not in punctuations):\n",
    "#        text = text+char\n",
    "#text"
   ]
  },
  {
   "cell_type": "code",
   "execution_count": 6,
   "metadata": {
    "ExecuteTime": {
     "end_time": "2021-10-10T12:52:36.950051Z",
     "start_time": "2021-10-10T12:52:36.942037Z"
    }
   },
   "outputs": [
    {
     "data": {
      "text/plain": [
       "'Sick Leave Email Template To Boss'"
      ]
     },
     "execution_count": 6,
     "metadata": {},
     "output_type": "execute_result"
    }
   ],
   "source": [
    "text = text.strip()\n",
    "text = text.title()\n",
    "text"
   ]
  },
  {
   "cell_type": "code",
   "execution_count": 7,
   "metadata": {
    "ExecuteTime": {
     "end_time": "2021-10-10T12:52:37.436156Z",
     "start_time": "2021-10-10T12:52:37.417207Z"
    }
   },
   "outputs": [
    {
     "data": {
      "text/plain": [
       "['Sick', 'Leave', 'Email', 'Template', 'To', 'Boss']"
      ]
     },
     "execution_count": 7,
     "metadata": {},
     "output_type": "execute_result"
    }
   ],
   "source": [
    "text_a = nltk.word_tokenize(text)\n",
    "text_a"
   ]
  },
  {
   "cell_type": "code",
   "execution_count": 8,
   "metadata": {
    "ExecuteTime": {
     "end_time": "2021-10-10T12:52:37.873433Z",
     "start_time": "2021-10-10T12:52:37.863493Z"
    }
   },
   "outputs": [
    {
     "data": {
      "text/plain": [
       "['Sick', 'Leave', 'Email', 'Template', 'To', 'Boss']"
      ]
     },
     "execution_count": 8,
     "metadata": {},
     "output_type": "execute_result"
    }
   ],
   "source": [
    "text_s=[]\n",
    "for word in text_a:\n",
    "    if (word not in stop_words):\n",
    "        text_s.append(word)\n",
    "        \n",
    "text_s"
   ]
  },
  {
   "cell_type": "code",
   "execution_count": 13,
   "metadata": {
    "ExecuteTime": {
     "end_time": "2021-10-10T12:54:05.260181Z",
     "start_time": "2021-10-10T12:54:05.248177Z"
    }
   },
   "outputs": [
    {
     "data": {
      "text/plain": [
       "['Sick', 'Leave', 'Email', 'Template', 'To', 'Boss']"
      ]
     },
     "execution_count": 13,
     "metadata": {},
     "output_type": "execute_result"
    }
   ],
   "source": [
    "text_l = []\n",
    "for word in text_s:\n",
    "    if word == 'boss':\n",
    "        text_l.append(word)\n",
    "    else: \n",
    "        text_l.append(lemmetizer.lemmatize(word))\n",
    "text_l"
   ]
  },
  {
   "cell_type": "code",
   "execution_count": 14,
   "metadata": {
    "ExecuteTime": {
     "end_time": "2021-10-10T12:54:06.296768Z",
     "start_time": "2021-10-10T12:54:06.277817Z"
    }
   },
   "outputs": [
    {
     "data": {
      "text/plain": [
       "['Sick', 'Leave', 'Boss']"
      ]
     },
     "execution_count": 14,
     "metadata": {},
     "output_type": "execute_result"
    }
   ],
   "source": [
    "text_f = []\n",
    "for word in text_l:\n",
    "    if word not in unwanted_words:\n",
    "        text_f.append(word)\n",
    "    else:\n",
    "        pass \n",
    "text_f"
   ]
  },
  {
   "cell_type": "markdown",
   "metadata": {},
   "source": [
    "# Searching for keywords in Search_column"
   ]
  },
  {
   "cell_type": "code",
   "execution_count": 15,
   "metadata": {
    "ExecuteTime": {
     "end_time": "2021-10-10T12:54:08.046673Z",
     "start_time": "2021-10-10T12:54:08.023701Z"
    }
   },
   "outputs": [
    {
     "data": {
      "text/html": [
       "<div>\n",
       "<style scoped>\n",
       "    .dataframe tbody tr th:only-of-type {\n",
       "        vertical-align: middle;\n",
       "    }\n",
       "\n",
       "    .dataframe tbody tr th {\n",
       "        vertical-align: top;\n",
       "    }\n",
       "\n",
       "    .dataframe thead th {\n",
       "        text-align: right;\n",
       "    }\n",
       "</style>\n",
       "<table border=\"1\" class=\"dataframe\">\n",
       "  <thead>\n",
       "    <tr style=\"text-align: right;\">\n",
       "      <th></th>\n",
       "      <th>Category</th>\n",
       "      <th>Search_column</th>\n",
       "      <th>Title</th>\n",
       "      <th>Body</th>\n",
       "    </tr>\n",
       "  </thead>\n",
       "  <tbody>\n",
       "    <tr>\n",
       "      <th>0</th>\n",
       "      <td>Acceptance Emails</td>\n",
       "      <td>[Elementary, School, Admission]</td>\n",
       "      <td>Elementary School Admission Email</td>\n",
       "      <td>To: [Email id]\\n\\nSubject: [Subject]\\n\\n[Salut...</td>\n",
       "    </tr>\n",
       "    <tr>\n",
       "      <th>1</th>\n",
       "      <td>Acceptance Emails</td>\n",
       "      <td>[Academy, Admission]</td>\n",
       "      <td>Academy Admission Email</td>\n",
       "      <td>To: [Email id]\\n\\nSubject: [Subject]\\n\\n[Salut...</td>\n",
       "    </tr>\n",
       "    <tr>\n",
       "      <th>2</th>\n",
       "      <td>Acceptance Emails</td>\n",
       "      <td>[College, Admissions, Recommendation]</td>\n",
       "      <td>College Admissions Recommendation Email</td>\n",
       "      <td>To: [Email id]\\n\\nSubject: [Subject]\\n\\n[Salut...</td>\n",
       "    </tr>\n",
       "    <tr>\n",
       "      <th>3</th>\n",
       "      <td>Acceptance Emails</td>\n",
       "      <td>[Decline, Admission]</td>\n",
       "      <td>Decline Admission Email</td>\n",
       "      <td>To: [Email id]\\n\\nSubject: [Subject]\\n\\n[Salut...</td>\n",
       "    </tr>\n",
       "    <tr>\n",
       "      <th>4</th>\n",
       "      <td>Acceptance Emails</td>\n",
       "      <td>[Harvard, Acceptance]</td>\n",
       "      <td>Harvard Acceptance Email</td>\n",
       "      <td>To: [Email id]\\n\\nSubject: [Subject]\\n\\n[Salut...</td>\n",
       "    </tr>\n",
       "  </tbody>\n",
       "</table>\n",
       "</div>"
      ],
      "text/plain": [
       "            Category                          Search_column  \\\n",
       "0  Acceptance Emails        [Elementary, School, Admission]   \n",
       "1  Acceptance Emails                   [Academy, Admission]   \n",
       "2  Acceptance Emails  [College, Admissions, Recommendation]   \n",
       "3  Acceptance Emails                   [Decline, Admission]   \n",
       "4  Acceptance Emails                  [Harvard, Acceptance]   \n",
       "\n",
       "                                     Title  \\\n",
       "0        Elementary School Admission Email   \n",
       "1                  Academy Admission Email   \n",
       "2  College Admissions Recommendation Email   \n",
       "3                  Decline Admission Email   \n",
       "4                 Harvard Acceptance Email   \n",
       "\n",
       "                                                Body  \n",
       "0  To: [Email id]\\n\\nSubject: [Subject]\\n\\n[Salut...  \n",
       "1  To: [Email id]\\n\\nSubject: [Subject]\\n\\n[Salut...  \n",
       "2  To: [Email id]\\n\\nSubject: [Subject]\\n\\n[Salut...  \n",
       "3  To: [Email id]\\n\\nSubject: [Subject]\\n\\n[Salut...  \n",
       "4  To: [Email id]\\n\\nSubject: [Subject]\\n\\n[Salut...  "
      ]
     },
     "execution_count": 15,
     "metadata": {},
     "output_type": "execute_result"
    }
   ],
   "source": [
    "data.head()"
   ]
  },
  {
   "cell_type": "code",
   "execution_count": 16,
   "metadata": {
    "ExecuteTime": {
     "end_time": "2021-10-10T12:54:08.754874Z",
     "start_time": "2021-10-10T12:54:08.625501Z"
    }
   },
   "outputs": [
    {
     "data": {
      "text/plain": [
       "[129,\n",
       " 129,\n",
       " 129,\n",
       " 162,\n",
       " 162,\n",
       " 162,\n",
       " 257,\n",
       " 257,\n",
       " 257,\n",
       " 431,\n",
       " 431,\n",
       " 431,\n",
       " 463,\n",
       " 463,\n",
       " 463,\n",
       " 978,\n",
       " 978,\n",
       " 978,\n",
       " 979,\n",
       " 979,\n",
       " 979,\n",
       " 980,\n",
       " 980,\n",
       " 980,\n",
       " 981,\n",
       " 981,\n",
       " 981,\n",
       " 982,\n",
       " 982,\n",
       " 982,\n",
       " 983,\n",
       " 983,\n",
       " 983,\n",
       " 984,\n",
       " 984,\n",
       " 984,\n",
       " 985,\n",
       " 985,\n",
       " 985,\n",
       " 986,\n",
       " 986,\n",
       " 986,\n",
       " 987,\n",
       " 987,\n",
       " 987,\n",
       " 987,\n",
       " 987,\n",
       " 987,\n",
       " 989,\n",
       " 989,\n",
       " 989,\n",
       " 990,\n",
       " 990,\n",
       " 990,\n",
       " 991,\n",
       " 991,\n",
       " 991,\n",
       " 995,\n",
       " 995,\n",
       " 995,\n",
       " 997,\n",
       " 997,\n",
       " 997,\n",
       " 998,\n",
       " 998,\n",
       " 998,\n",
       " 999,\n",
       " 999,\n",
       " 999,\n",
       " 1000,\n",
       " 1000,\n",
       " 1000,\n",
       " 1001,\n",
       " 1001,\n",
       " 1001,\n",
       " 1003,\n",
       " 1003,\n",
       " 1003,\n",
       " 1004,\n",
       " 1004,\n",
       " 1004,\n",
       " 1203,\n",
       " 1203,\n",
       " 1203,\n",
       " 1225,\n",
       " 1225,\n",
       " 1225,\n",
       " 1265,\n",
       " 1265,\n",
       " 1265,\n",
       " 1486,\n",
       " 1486,\n",
       " 1486,\n",
       " 1493,\n",
       " 1493,\n",
       " 1493]"
      ]
     },
     "execution_count": 16,
     "metadata": {},
     "output_type": "execute_result"
    }
   ],
   "source": [
    "#Searching for keywords in the search column\n",
    "result_in = []\n",
    "for word in text_f:\n",
    "    for i in range (0,len(data)):\n",
    "        for j in range (0,len(data.iloc[i,1])):\n",
    "            if data.iloc[i,1][j] not in text_f:\n",
    "                pass\n",
    "            else:\n",
    "                result_in.append(int(i))\n",
    "result_in.sort(reverse=False)\n",
    "result_in"
   ]
  },
  {
   "cell_type": "code",
   "execution_count": 17,
   "metadata": {
    "ExecuteTime": {
     "end_time": "2021-10-10T12:54:09.430827Z",
     "start_time": "2021-10-10T12:54:09.414903Z"
    }
   },
   "outputs": [
    {
     "data": {
      "text/html": [
       "<div>\n",
       "<style scoped>\n",
       "    .dataframe tbody tr th:only-of-type {\n",
       "        vertical-align: middle;\n",
       "    }\n",
       "\n",
       "    .dataframe tbody tr th {\n",
       "        vertical-align: top;\n",
       "    }\n",
       "\n",
       "    .dataframe thead th {\n",
       "        text-align: right;\n",
       "    }\n",
       "</style>\n",
       "<table border=\"1\" class=\"dataframe\">\n",
       "  <thead>\n",
       "    <tr style=\"text-align: right;\">\n",
       "      <th></th>\n",
       "      <th>Category</th>\n",
       "      <th>Search_column</th>\n",
       "      <th>Title</th>\n",
       "      <th>Body</th>\n",
       "      <th>priority</th>\n",
       "    </tr>\n",
       "  </thead>\n",
       "  <tbody>\n",
       "    <tr>\n",
       "      <th>129</th>\n",
       "      <td>Application Emails</td>\n",
       "      <td>[Marriage, Leave, Application]</td>\n",
       "      <td>Marriage Leave Application</td>\n",
       "      <td>To: [Email id]\\n\\nSubject: [Subject]\\n\\n[Salut...</td>\n",
       "      <td>NaN</td>\n",
       "    </tr>\n",
       "    <tr>\n",
       "      <th>129</th>\n",
       "      <td>Application Emails</td>\n",
       "      <td>[Marriage, Leave, Application]</td>\n",
       "      <td>Marriage Leave Application</td>\n",
       "      <td>To: [Email id]\\n\\nSubject: [Subject]\\n\\n[Salut...</td>\n",
       "      <td>NaN</td>\n",
       "    </tr>\n",
       "    <tr>\n",
       "      <th>129</th>\n",
       "      <td>Application Emails</td>\n",
       "      <td>[Marriage, Leave, Application]</td>\n",
       "      <td>Marriage Leave Application</td>\n",
       "      <td>To: [Email id]\\n\\nSubject: [Subject]\\n\\n[Salut...</td>\n",
       "      <td>NaN</td>\n",
       "    </tr>\n",
       "    <tr>\n",
       "      <th>162</th>\n",
       "      <td>Appreciation Emails</td>\n",
       "      <td>[Appreciation, Boss]</td>\n",
       "      <td>Appreciation Email to Boss</td>\n",
       "      <td>To: [Email id]\\n\\nSubject: [Subject]\\n\\n[Salut...</td>\n",
       "      <td>NaN</td>\n",
       "    </tr>\n",
       "    <tr>\n",
       "      <th>162</th>\n",
       "      <td>Appreciation Emails</td>\n",
       "      <td>[Appreciation, Boss]</td>\n",
       "      <td>Appreciation Email to Boss</td>\n",
       "      <td>To: [Email id]\\n\\nSubject: [Subject]\\n\\n[Salut...</td>\n",
       "      <td>NaN</td>\n",
       "    </tr>\n",
       "  </tbody>\n",
       "</table>\n",
       "</div>"
      ],
      "text/plain": [
       "                Category                   Search_column  \\\n",
       "129   Application Emails  [Marriage, Leave, Application]   \n",
       "129   Application Emails  [Marriage, Leave, Application]   \n",
       "129   Application Emails  [Marriage, Leave, Application]   \n",
       "162  Appreciation Emails            [Appreciation, Boss]   \n",
       "162  Appreciation Emails            [Appreciation, Boss]   \n",
       "\n",
       "                          Title  \\\n",
       "129  Marriage Leave Application   \n",
       "129  Marriage Leave Application   \n",
       "129  Marriage Leave Application   \n",
       "162  Appreciation Email to Boss   \n",
       "162  Appreciation Email to Boss   \n",
       "\n",
       "                                                  Body  priority  \n",
       "129  To: [Email id]\\n\\nSubject: [Subject]\\n\\n[Salut...       NaN  \n",
       "129  To: [Email id]\\n\\nSubject: [Subject]\\n\\n[Salut...       NaN  \n",
       "129  To: [Email id]\\n\\nSubject: [Subject]\\n\\n[Salut...       NaN  \n",
       "162  To: [Email id]\\n\\nSubject: [Subject]\\n\\n[Salut...       NaN  \n",
       "162  To: [Email id]\\n\\nSubject: [Subject]\\n\\n[Salut...       NaN  "
      ]
     },
     "execution_count": 17,
     "metadata": {},
     "output_type": "execute_result"
    }
   ],
   "source": [
    "x = data.iloc[result_in]\n",
    "x['priority'] = np.NaN\n",
    "x.head()"
   ]
  },
  {
   "cell_type": "code",
   "execution_count": 18,
   "metadata": {
    "ExecuteTime": {
     "end_time": "2021-10-10T12:54:10.166836Z",
     "start_time": "2021-10-10T12:54:10.149881Z"
    }
   },
   "outputs": [
    {
     "data": {
      "text/plain": [
       "987     6\n",
       "1493    3\n",
       "984     3\n",
       "162     3\n",
       "257     3\n",
       "431     3\n",
       "1203    3\n",
       "1225    3\n",
       "1486    3\n",
       "463     3\n",
       "978     3\n",
       "979     3\n",
       "980     3\n",
       "981     3\n",
       "982     3\n",
       "983     3\n",
       "985     3\n",
       "1265    3\n",
       "986     3\n",
       "989     3\n",
       "990     3\n",
       "991     3\n",
       "995     3\n",
       "997     3\n",
       "998     3\n",
       "999     3\n",
       "1000    3\n",
       "1001    3\n",
       "1003    3\n",
       "1004    3\n",
       "129     3\n",
       "dtype: int64"
      ]
     },
     "execution_count": 18,
     "metadata": {},
     "output_type": "execute_result"
    }
   ],
   "source": [
    "p = x.index.value_counts()\n",
    "p"
   ]
  },
  {
   "cell_type": "code",
   "execution_count": 19,
   "metadata": {
    "ExecuteTime": {
     "end_time": "2021-10-10T12:54:10.760038Z",
     "start_time": "2021-10-10T12:54:10.742051Z"
    }
   },
   "outputs": [],
   "source": [
    "x = x.reset_index()\n",
    "p = p.reset_index()\n",
    "p = p.rename(columns={0:'priority'},inplace=False)"
   ]
  },
  {
   "cell_type": "code",
   "execution_count": 20,
   "metadata": {
    "ExecuteTime": {
     "end_time": "2021-10-10T12:54:11.476897Z",
     "start_time": "2021-10-10T12:54:11.463933Z"
    }
   },
   "outputs": [
    {
     "data": {
      "text/html": [
       "<div>\n",
       "<style scoped>\n",
       "    .dataframe tbody tr th:only-of-type {\n",
       "        vertical-align: middle;\n",
       "    }\n",
       "\n",
       "    .dataframe tbody tr th {\n",
       "        vertical-align: top;\n",
       "    }\n",
       "\n",
       "    .dataframe thead th {\n",
       "        text-align: right;\n",
       "    }\n",
       "</style>\n",
       "<table border=\"1\" class=\"dataframe\">\n",
       "  <thead>\n",
       "    <tr style=\"text-align: right;\">\n",
       "      <th></th>\n",
       "      <th>index</th>\n",
       "      <th>Category</th>\n",
       "      <th>Search_column</th>\n",
       "      <th>Title</th>\n",
       "      <th>Body</th>\n",
       "      <th>priority</th>\n",
       "    </tr>\n",
       "  </thead>\n",
       "  <tbody>\n",
       "    <tr>\n",
       "      <th>0</th>\n",
       "      <td>129</td>\n",
       "      <td>Application Emails</td>\n",
       "      <td>[Marriage, Leave, Application]</td>\n",
       "      <td>Marriage Leave Application</td>\n",
       "      <td>To: [Email id]\\n\\nSubject: [Subject]\\n\\n[Salut...</td>\n",
       "      <td>NaN</td>\n",
       "    </tr>\n",
       "    <tr>\n",
       "      <th>1</th>\n",
       "      <td>129</td>\n",
       "      <td>Application Emails</td>\n",
       "      <td>[Marriage, Leave, Application]</td>\n",
       "      <td>Marriage Leave Application</td>\n",
       "      <td>To: [Email id]\\n\\nSubject: [Subject]\\n\\n[Salut...</td>\n",
       "      <td>NaN</td>\n",
       "    </tr>\n",
       "    <tr>\n",
       "      <th>2</th>\n",
       "      <td>129</td>\n",
       "      <td>Application Emails</td>\n",
       "      <td>[Marriage, Leave, Application]</td>\n",
       "      <td>Marriage Leave Application</td>\n",
       "      <td>To: [Email id]\\n\\nSubject: [Subject]\\n\\n[Salut...</td>\n",
       "      <td>NaN</td>\n",
       "    </tr>\n",
       "    <tr>\n",
       "      <th>3</th>\n",
       "      <td>162</td>\n",
       "      <td>Appreciation Emails</td>\n",
       "      <td>[Appreciation, Boss]</td>\n",
       "      <td>Appreciation Email to Boss</td>\n",
       "      <td>To: [Email id]\\n\\nSubject: [Subject]\\n\\n[Salut...</td>\n",
       "      <td>NaN</td>\n",
       "    </tr>\n",
       "    <tr>\n",
       "      <th>4</th>\n",
       "      <td>162</td>\n",
       "      <td>Appreciation Emails</td>\n",
       "      <td>[Appreciation, Boss]</td>\n",
       "      <td>Appreciation Email to Boss</td>\n",
       "      <td>To: [Email id]\\n\\nSubject: [Subject]\\n\\n[Salut...</td>\n",
       "      <td>NaN</td>\n",
       "    </tr>\n",
       "  </tbody>\n",
       "</table>\n",
       "</div>"
      ],
      "text/plain": [
       "   index             Category                   Search_column  \\\n",
       "0    129   Application Emails  [Marriage, Leave, Application]   \n",
       "1    129   Application Emails  [Marriage, Leave, Application]   \n",
       "2    129   Application Emails  [Marriage, Leave, Application]   \n",
       "3    162  Appreciation Emails            [Appreciation, Boss]   \n",
       "4    162  Appreciation Emails            [Appreciation, Boss]   \n",
       "\n",
       "                        Title  \\\n",
       "0  Marriage Leave Application   \n",
       "1  Marriage Leave Application   \n",
       "2  Marriage Leave Application   \n",
       "3  Appreciation Email to Boss   \n",
       "4  Appreciation Email to Boss   \n",
       "\n",
       "                                                Body  priority  \n",
       "0  To: [Email id]\\n\\nSubject: [Subject]\\n\\n[Salut...       NaN  \n",
       "1  To: [Email id]\\n\\nSubject: [Subject]\\n\\n[Salut...       NaN  \n",
       "2  To: [Email id]\\n\\nSubject: [Subject]\\n\\n[Salut...       NaN  \n",
       "3  To: [Email id]\\n\\nSubject: [Subject]\\n\\n[Salut...       NaN  \n",
       "4  To: [Email id]\\n\\nSubject: [Subject]\\n\\n[Salut...       NaN  "
      ]
     },
     "execution_count": 20,
     "metadata": {},
     "output_type": "execute_result"
    }
   ],
   "source": [
    "x.head()"
   ]
  },
  {
   "cell_type": "code",
   "execution_count": 21,
   "metadata": {
    "ExecuteTime": {
     "end_time": "2021-10-10T12:54:12.180162Z",
     "start_time": "2021-10-10T12:54:12.168194Z"
    }
   },
   "outputs": [
    {
     "data": {
      "text/html": [
       "<div>\n",
       "<style scoped>\n",
       "    .dataframe tbody tr th:only-of-type {\n",
       "        vertical-align: middle;\n",
       "    }\n",
       "\n",
       "    .dataframe tbody tr th {\n",
       "        vertical-align: top;\n",
       "    }\n",
       "\n",
       "    .dataframe thead th {\n",
       "        text-align: right;\n",
       "    }\n",
       "</style>\n",
       "<table border=\"1\" class=\"dataframe\">\n",
       "  <thead>\n",
       "    <tr style=\"text-align: right;\">\n",
       "      <th></th>\n",
       "      <th>index</th>\n",
       "      <th>priority</th>\n",
       "    </tr>\n",
       "  </thead>\n",
       "  <tbody>\n",
       "    <tr>\n",
       "      <th>0</th>\n",
       "      <td>987</td>\n",
       "      <td>6</td>\n",
       "    </tr>\n",
       "    <tr>\n",
       "      <th>1</th>\n",
       "      <td>1493</td>\n",
       "      <td>3</td>\n",
       "    </tr>\n",
       "    <tr>\n",
       "      <th>2</th>\n",
       "      <td>984</td>\n",
       "      <td>3</td>\n",
       "    </tr>\n",
       "    <tr>\n",
       "      <th>3</th>\n",
       "      <td>162</td>\n",
       "      <td>3</td>\n",
       "    </tr>\n",
       "    <tr>\n",
       "      <th>4</th>\n",
       "      <td>257</td>\n",
       "      <td>3</td>\n",
       "    </tr>\n",
       "  </tbody>\n",
       "</table>\n",
       "</div>"
      ],
      "text/plain": [
       "   index  priority\n",
       "0    987         6\n",
       "1   1493         3\n",
       "2    984         3\n",
       "3    162         3\n",
       "4    257         3"
      ]
     },
     "execution_count": 21,
     "metadata": {},
     "output_type": "execute_result"
    }
   ],
   "source": [
    "p.head()"
   ]
  },
  {
   "cell_type": "code",
   "execution_count": 22,
   "metadata": {
    "ExecuteTime": {
     "end_time": "2021-10-10T12:54:13.226710Z",
     "start_time": "2021-10-10T12:54:13.169828Z"
    }
   },
   "outputs": [
    {
     "data": {
      "text/html": [
       "<div>\n",
       "<style scoped>\n",
       "    .dataframe tbody tr th:only-of-type {\n",
       "        vertical-align: middle;\n",
       "    }\n",
       "\n",
       "    .dataframe tbody tr th {\n",
       "        vertical-align: top;\n",
       "    }\n",
       "\n",
       "    .dataframe thead th {\n",
       "        text-align: right;\n",
       "    }\n",
       "</style>\n",
       "<table border=\"1\" class=\"dataframe\">\n",
       "  <thead>\n",
       "    <tr style=\"text-align: right;\">\n",
       "      <th></th>\n",
       "      <th>index</th>\n",
       "      <th>Category</th>\n",
       "      <th>Search_column</th>\n",
       "      <th>Title</th>\n",
       "      <th>Body</th>\n",
       "      <th>priority</th>\n",
       "    </tr>\n",
       "  </thead>\n",
       "  <tbody>\n",
       "    <tr>\n",
       "      <th>0</th>\n",
       "      <td>129</td>\n",
       "      <td>Application Emails</td>\n",
       "      <td>[Marriage, Leave, Application]</td>\n",
       "      <td>Marriage Leave Application</td>\n",
       "      <td>To: [Email id]\\n\\nSubject: [Subject]\\n\\n[Salut...</td>\n",
       "      <td>3.0</td>\n",
       "    </tr>\n",
       "    <tr>\n",
       "      <th>1</th>\n",
       "      <td>129</td>\n",
       "      <td>Application Emails</td>\n",
       "      <td>[Marriage, Leave, Application]</td>\n",
       "      <td>Marriage Leave Application</td>\n",
       "      <td>To: [Email id]\\n\\nSubject: [Subject]\\n\\n[Salut...</td>\n",
       "      <td>3.0</td>\n",
       "    </tr>\n",
       "    <tr>\n",
       "      <th>2</th>\n",
       "      <td>129</td>\n",
       "      <td>Application Emails</td>\n",
       "      <td>[Marriage, Leave, Application]</td>\n",
       "      <td>Marriage Leave Application</td>\n",
       "      <td>To: [Email id]\\n\\nSubject: [Subject]\\n\\n[Salut...</td>\n",
       "      <td>3.0</td>\n",
       "    </tr>\n",
       "    <tr>\n",
       "      <th>3</th>\n",
       "      <td>162</td>\n",
       "      <td>Appreciation Emails</td>\n",
       "      <td>[Appreciation, Boss]</td>\n",
       "      <td>Appreciation Email to Boss</td>\n",
       "      <td>To: [Email id]\\n\\nSubject: [Subject]\\n\\n[Salut...</td>\n",
       "      <td>3.0</td>\n",
       "    </tr>\n",
       "    <tr>\n",
       "      <th>4</th>\n",
       "      <td>162</td>\n",
       "      <td>Appreciation Emails</td>\n",
       "      <td>[Appreciation, Boss]</td>\n",
       "      <td>Appreciation Email to Boss</td>\n",
       "      <td>To: [Email id]\\n\\nSubject: [Subject]\\n\\n[Salut...</td>\n",
       "      <td>3.0</td>\n",
       "    </tr>\n",
       "  </tbody>\n",
       "</table>\n",
       "</div>"
      ],
      "text/plain": [
       "   index             Category                   Search_column  \\\n",
       "0    129   Application Emails  [Marriage, Leave, Application]   \n",
       "1    129   Application Emails  [Marriage, Leave, Application]   \n",
       "2    129   Application Emails  [Marriage, Leave, Application]   \n",
       "3    162  Appreciation Emails            [Appreciation, Boss]   \n",
       "4    162  Appreciation Emails            [Appreciation, Boss]   \n",
       "\n",
       "                        Title  \\\n",
       "0  Marriage Leave Application   \n",
       "1  Marriage Leave Application   \n",
       "2  Marriage Leave Application   \n",
       "3  Appreciation Email to Boss   \n",
       "4  Appreciation Email to Boss   \n",
       "\n",
       "                                                Body  priority  \n",
       "0  To: [Email id]\\n\\nSubject: [Subject]\\n\\n[Salut...       3.0  \n",
       "1  To: [Email id]\\n\\nSubject: [Subject]\\n\\n[Salut...       3.0  \n",
       "2  To: [Email id]\\n\\nSubject: [Subject]\\n\\n[Salut...       3.0  \n",
       "3  To: [Email id]\\n\\nSubject: [Subject]\\n\\n[Salut...       3.0  \n",
       "4  To: [Email id]\\n\\nSubject: [Subject]\\n\\n[Salut...       3.0  "
      ]
     },
     "execution_count": 22,
     "metadata": {},
     "output_type": "execute_result"
    }
   ],
   "source": [
    "for i in range(0,len(x)):\n",
    "    ind = x['index'][i] \n",
    "    for j in range(0,len(p)):\n",
    "        if p['index'][j] == ind:\n",
    "            pr = p['priority'][j]\n",
    "        else:\n",
    "            pass\n",
    "    x['priority'][i] = pr\n",
    "x.head()"
   ]
  },
  {
   "cell_type": "code",
   "execution_count": 23,
   "metadata": {
    "ExecuteTime": {
     "end_time": "2021-10-10T12:54:13.868537Z",
     "start_time": "2021-10-10T12:54:13.852581Z"
    }
   },
   "outputs": [
    {
     "data": {
      "text/html": [
       "<div>\n",
       "<style scoped>\n",
       "    .dataframe tbody tr th:only-of-type {\n",
       "        vertical-align: middle;\n",
       "    }\n",
       "\n",
       "    .dataframe tbody tr th {\n",
       "        vertical-align: top;\n",
       "    }\n",
       "\n",
       "    .dataframe thead th {\n",
       "        text-align: right;\n",
       "    }\n",
       "</style>\n",
       "<table border=\"1\" class=\"dataframe\">\n",
       "  <thead>\n",
       "    <tr style=\"text-align: right;\">\n",
       "      <th></th>\n",
       "      <th>index</th>\n",
       "      <th>Category</th>\n",
       "      <th>Search_column</th>\n",
       "      <th>Title</th>\n",
       "      <th>Body</th>\n",
       "      <th>priority</th>\n",
       "    </tr>\n",
       "  </thead>\n",
       "  <tbody>\n",
       "    <tr>\n",
       "      <th>47</th>\n",
       "      <td>987</td>\n",
       "      <td>Leave Emails</td>\n",
       "      <td>[Leave, Boss]</td>\n",
       "      <td>Leave Email To Boss</td>\n",
       "      <td>To: [Email id]\\n\\nSubject: [Subject]\\n\\n[Salut...</td>\n",
       "      <td>6.0</td>\n",
       "    </tr>\n",
       "    <tr>\n",
       "      <th>46</th>\n",
       "      <td>987</td>\n",
       "      <td>Leave Emails</td>\n",
       "      <td>[Leave, Boss]</td>\n",
       "      <td>Leave Email To Boss</td>\n",
       "      <td>To: [Email id]\\n\\nSubject: [Subject]\\n\\n[Salut...</td>\n",
       "      <td>6.0</td>\n",
       "    </tr>\n",
       "    <tr>\n",
       "      <th>45</th>\n",
       "      <td>987</td>\n",
       "      <td>Leave Emails</td>\n",
       "      <td>[Leave, Boss]</td>\n",
       "      <td>Leave Email To Boss</td>\n",
       "      <td>To: [Email id]\\n\\nSubject: [Subject]\\n\\n[Salut...</td>\n",
       "      <td>6.0</td>\n",
       "    </tr>\n",
       "    <tr>\n",
       "      <th>44</th>\n",
       "      <td>987</td>\n",
       "      <td>Leave Emails</td>\n",
       "      <td>[Leave, Boss]</td>\n",
       "      <td>Leave Email To Boss</td>\n",
       "      <td>To: [Email id]\\n\\nSubject: [Subject]\\n\\n[Salut...</td>\n",
       "      <td>6.0</td>\n",
       "    </tr>\n",
       "    <tr>\n",
       "      <th>43</th>\n",
       "      <td>987</td>\n",
       "      <td>Leave Emails</td>\n",
       "      <td>[Leave, Boss]</td>\n",
       "      <td>Leave Email To Boss</td>\n",
       "      <td>To: [Email id]\\n\\nSubject: [Subject]\\n\\n[Salut...</td>\n",
       "      <td>6.0</td>\n",
       "    </tr>\n",
       "  </tbody>\n",
       "</table>\n",
       "</div>"
      ],
      "text/plain": [
       "    index      Category  Search_column                Title  \\\n",
       "47    987  Leave Emails  [Leave, Boss]  Leave Email To Boss   \n",
       "46    987  Leave Emails  [Leave, Boss]  Leave Email To Boss   \n",
       "45    987  Leave Emails  [Leave, Boss]  Leave Email To Boss   \n",
       "44    987  Leave Emails  [Leave, Boss]  Leave Email To Boss   \n",
       "43    987  Leave Emails  [Leave, Boss]  Leave Email To Boss   \n",
       "\n",
       "                                                 Body  priority  \n",
       "47  To: [Email id]\\n\\nSubject: [Subject]\\n\\n[Salut...       6.0  \n",
       "46  To: [Email id]\\n\\nSubject: [Subject]\\n\\n[Salut...       6.0  \n",
       "45  To: [Email id]\\n\\nSubject: [Subject]\\n\\n[Salut...       6.0  \n",
       "44  To: [Email id]\\n\\nSubject: [Subject]\\n\\n[Salut...       6.0  \n",
       "43  To: [Email id]\\n\\nSubject: [Subject]\\n\\n[Salut...       6.0  "
      ]
     },
     "execution_count": 23,
     "metadata": {},
     "output_type": "execute_result"
    }
   ],
   "source": [
    "x = x.sort_values(by=['priority'],ascending=False)\n",
    "x.head()"
   ]
  },
  {
   "cell_type": "markdown",
   "metadata": {},
   "source": [
    "# Results"
   ]
  },
  {
   "cell_type": "code",
   "execution_count": 24,
   "metadata": {
    "ExecuteTime": {
     "end_time": "2021-10-10T12:54:15.148184Z",
     "start_time": "2021-10-10T12:54:15.123251Z"
    }
   },
   "outputs": [
    {
     "data": {
      "text/html": [
       "<div>\n",
       "<style scoped>\n",
       "    .dataframe tbody tr th:only-of-type {\n",
       "        vertical-align: middle;\n",
       "    }\n",
       "\n",
       "    .dataframe tbody tr th {\n",
       "        vertical-align: top;\n",
       "    }\n",
       "\n",
       "    .dataframe thead th {\n",
       "        text-align: right;\n",
       "    }\n",
       "</style>\n",
       "<table border=\"1\" class=\"dataframe\">\n",
       "  <thead>\n",
       "    <tr style=\"text-align: right;\">\n",
       "      <th></th>\n",
       "      <th>Category</th>\n",
       "      <th>Title</th>\n",
       "      <th>Body</th>\n",
       "    </tr>\n",
       "  </thead>\n",
       "  <tbody>\n",
       "    <tr>\n",
       "      <th>0</th>\n",
       "      <td>Leave Emails</td>\n",
       "      <td>Leave Email To Boss</td>\n",
       "      <td>To: [Email id]\\n\\nSubject: [Subject]\\n\\n[Salut...</td>\n",
       "    </tr>\n",
       "    <tr>\n",
       "      <th>1</th>\n",
       "      <td>Congratulation Emails</td>\n",
       "      <td>Congratulation to Boss</td>\n",
       "      <td>To: [Email id]\\n\\nSubject: [Subject]\\n\\n[Salut...</td>\n",
       "    </tr>\n",
       "    <tr>\n",
       "      <th>2</th>\n",
       "      <td>Appreciation Emails</td>\n",
       "      <td>Appreciation Email to Boss</td>\n",
       "      <td>To: [Email id]\\n\\nSubject: [Subject]\\n\\n[Salut...</td>\n",
       "    </tr>\n",
       "    <tr>\n",
       "      <th>3</th>\n",
       "      <td>Business Emails</td>\n",
       "      <td>Short Request for Leave of Absence</td>\n",
       "      <td>To: [Email id]\\n\\nSubject: [Subject]\\n\\n[Salut...</td>\n",
       "    </tr>\n",
       "    <tr>\n",
       "      <th>4</th>\n",
       "      <td>Condolence Emails</td>\n",
       "      <td>Condolence Email to Boss</td>\n",
       "      <td>To: [Email id]\\n\\nSubject: [Subject]\\n\\n[Salut...</td>\n",
       "    </tr>\n",
       "  </tbody>\n",
       "</table>\n",
       "</div>"
      ],
      "text/plain": [
       "                Category                               Title  \\\n",
       "0           Leave Emails                 Leave Email To Boss   \n",
       "1  Congratulation Emails              Congratulation to Boss   \n",
       "2    Appreciation Emails          Appreciation Email to Boss   \n",
       "3        Business Emails  Short Request for Leave of Absence   \n",
       "4      Condolence Emails            Condolence Email to Boss   \n",
       "\n",
       "                                                Body  \n",
       "0  To: [Email id]\\n\\nSubject: [Subject]\\n\\n[Salut...  \n",
       "1  To: [Email id]\\n\\nSubject: [Subject]\\n\\n[Salut...  \n",
       "2  To: [Email id]\\n\\nSubject: [Subject]\\n\\n[Salut...  \n",
       "3  To: [Email id]\\n\\nSubject: [Subject]\\n\\n[Salut...  \n",
       "4  To: [Email id]\\n\\nSubject: [Subject]\\n\\n[Salut...  "
      ]
     },
     "execution_count": 24,
     "metadata": {},
     "output_type": "execute_result"
    }
   ],
   "source": [
    "x = x.sort_values(by=['priority'],ascending=False)\n",
    "x = x.drop_duplicates(subset=['index'])\n",
    "x = x.drop(['index','Search_column','priority'],axis=1)\n",
    "x = x.reset_index(drop=True)\n",
    "x.head()"
   ]
  },
  {
   "cell_type": "code",
   "execution_count": 25,
   "metadata": {
    "ExecuteTime": {
     "end_time": "2021-10-10T12:54:15.870327Z",
     "start_time": "2021-10-10T12:54:15.851330Z"
    }
   },
   "outputs": [
    {
     "name": "stdout",
     "output_type": "stream",
     "text": [
      "Category:  Leave Emails \n",
      "\n",
      "Title:  Leave Email To Boss\n",
      "____________________________________________________________________________________________________________________________\n",
      "\n",
      "To: [Email id]\n",
      "\n",
      "Subject: [Subject]\n",
      "\n",
      "[Salutation]\n",
      "\n",
      "As I have discussed with you in the past that I am having an issue with my family. My mother is ill and I will need to go home and take care of her. Therefore I am formally asking for a leave of absence, starting on [DATE].\n",
      "\n",
      "I am hoping to be back at work on [DATE] .If there is any delay of any sort, I will let you know. If there is any way I can do any work remotely during that time, please let me know as I don’t want to neglect  my duties and still wish to help the company as much as I can. My  family and I are all hoping for my mother to have a speed and full  recovery, and we all greatly appreciate your support during this  difficult time.\n",
      "\n",
      "[Closure]\n",
      "\n",
      "[Name/Signature]\n",
      "[Designation]\n",
      "[Organization]\n",
      "\n"
     ]
    }
   ],
   "source": [
    "print('Category: ',x.Category[0],'\\n')\n",
    "print('Title: ',x.Title[0])\n",
    "print('____________________________________________________________________________________________________________________________\\n')\n",
    "print(x.Body[0])"
   ]
  },
  {
   "cell_type": "markdown",
   "metadata": {},
   "source": [
    "## Just for future reference"
   ]
  },
  {
   "cell_type": "code",
   "execution_count": 26,
   "metadata": {
    "ExecuteTime": {
     "end_time": "2021-10-10T12:54:21.136645Z",
     "start_time": "2021-10-10T12:54:21.111747Z"
    }
   },
   "outputs": [
    {
     "data": {
      "text/html": [
       "<div>\n",
       "<style scoped>\n",
       "    .dataframe tbody tr th:only-of-type {\n",
       "        vertical-align: middle;\n",
       "    }\n",
       "\n",
       "    .dataframe tbody tr th {\n",
       "        vertical-align: top;\n",
       "    }\n",
       "\n",
       "    .dataframe thead th {\n",
       "        text-align: right;\n",
       "    }\n",
       "</style>\n",
       "<table border=\"1\" class=\"dataframe\">\n",
       "  <thead>\n",
       "    <tr style=\"text-align: right;\">\n",
       "      <th></th>\n",
       "      <th>Category</th>\n",
       "      <th>N_Letters</th>\n",
       "    </tr>\n",
       "  </thead>\n",
       "  <tbody>\n",
       "    <tr>\n",
       "      <th>0</th>\n",
       "      <td>Personal Emails</td>\n",
       "      <td>70</td>\n",
       "    </tr>\n",
       "    <tr>\n",
       "      <th>1</th>\n",
       "      <td>Business Emails</td>\n",
       "      <td>70</td>\n",
       "    </tr>\n",
       "    <tr>\n",
       "      <th>2</th>\n",
       "      <td>Customer Emails</td>\n",
       "      <td>70</td>\n",
       "    </tr>\n",
       "    <tr>\n",
       "      <th>3</th>\n",
       "      <td>General Emails</td>\n",
       "      <td>64</td>\n",
       "    </tr>\n",
       "    <tr>\n",
       "      <th>4</th>\n",
       "      <td>Sales &amp; Marketing Emails</td>\n",
       "      <td>60</td>\n",
       "    </tr>\n",
       "  </tbody>\n",
       "</table>\n",
       "</div>"
      ],
      "text/plain": [
       "                   Category  N_Letters\n",
       "0           Personal Emails         70\n",
       "1           Business Emails         70\n",
       "2           Customer Emails         70\n",
       "3            General Emails         64\n",
       "4  Sales & Marketing Emails         60"
      ]
     },
     "execution_count": 26,
     "metadata": {},
     "output_type": "execute_result"
    }
   ],
   "source": [
    "df = pd.DataFrame(data.Category.value_counts())\n",
    "df = df.reset_index()\n",
    "df = df.rename(columns={'index':'Category','Category':'N_Letters'})\n",
    "df.head()"
   ]
  },
  {
   "cell_type": "markdown",
   "metadata": {},
   "source": [
    "# Deployment"
   ]
  },
  {
   "cell_type": "code",
   "execution_count": 9,
   "metadata": {
    "ExecuteTime": {
     "end_time": "2021-10-09T13:10:19.286225Z",
     "start_time": "2021-10-09T13:06:43.019197Z"
    }
   },
   "outputs": [
    {
     "name": "stdout",
     "output_type": "stream",
     "text": [
      " * Serving Flask app \"__main__\" (lazy loading)\n",
      " * Environment: production\n",
      "   WARNING: This is a development server. Do not use it in a production deployment.\n",
      "   Use a production WSGI server instead.\n",
      " * Debug mode: off\n"
     ]
    },
    {
     "name": "stderr",
     "output_type": "stream",
     "text": [
      " * Running on http://127.0.0.1:5000/ (Press CTRL+C to quit)\n",
      "127.0.0.1 - - [09/Oct/2021 18:37:12] \"\u001b[37mGET / HTTP/1.1\u001b[0m\" 200 -\n",
      "127.0.0.1 - - [09/Oct/2021 18:37:12] \"\u001b[37mGET /static/titleicon.png HTTP/1.1\u001b[0m\" 200 -\n",
      "127.0.0.1 - - [09/Oct/2021 18:37:51] \"\u001b[37mPOST /search_results HTTP/1.1\u001b[0m\" 200 -\n",
      "127.0.0.1 - - [09/Oct/2021 18:38:03] \"\u001b[37mPOST /search_results/print HTTP/1.1\u001b[0m\" 200 -\n",
      "127.0.0.1 - - [09/Oct/2021 18:38:16] \"\u001b[37mPOST /search_results/print HTTP/1.1\u001b[0m\" 200 -\n",
      "127.0.0.1 - - [09/Oct/2021 18:38:51] \"\u001b[37mPOST /category HTTP/1.1\u001b[0m\" 200 -\n",
      "127.0.0.1 - - [09/Oct/2021 18:39:15] \"\u001b[37mPOST /category/title HTTP/1.1\u001b[0m\" 200 -\n",
      "127.0.0.1 - - [09/Oct/2021 18:39:27] \"\u001b[37mPOST /category/title HTTP/1.1\u001b[0m\" 200 -\n",
      "127.0.0.1 - - [09/Oct/2021 18:40:02] \"\u001b[37mPOST /category/title HTTP/1.1\u001b[0m\" 200 -\n"
     ]
    }
   ],
   "source": [
    "app = Flask(__name__)\n",
    "\n",
    "#app.static_folder = 'static'\n",
    "\n",
    "\n",
    "@app.route('/')\n",
    "def home_page():\n",
    "    cats = df.Category.to_list()\n",
    "    return render_template('index.html',cat_list = cats)\n",
    "\n",
    "\n",
    "\n",
    "@app.route('/category',methods = ['POST','GET'])\n",
    "def category():\n",
    "    cats = df.Category.to_list()\n",
    "    if request.method == 'POST':\n",
    "        s = str(request.form['cat'])\n",
    "        b = data[data.Category == s]\n",
    "        title = b.Title.to_list()\n",
    "    return render_template('cat_title.html',title_list=title,cat_list = cats)\n",
    "\n",
    "\n",
    "\n",
    "@app.route('/category/title',methods = ['POST','GET'])\n",
    "def cat_title():\n",
    "    if request.method == 'POST':\n",
    "        s = str(request.form['title'])\n",
    "        b = data[data.Title == s]\n",
    "        b = b.reset_index(drop=True)\n",
    "        letter = 'Category: '+str(b.Category[0])+'\\nTitle: '+str(b.Title[0])+'\\n____________________________________________________________________________________________________________\\n'+str(b.Body[0])\n",
    "        letter = letter.split('\\n')\n",
    "        cats = df.Category.to_list()\n",
    "        c = data[data.Category == b.Category[0]]\n",
    "        title = c.Title.to_list()\n",
    "    return render_template('print.html',title_list = title,cat_list = cats,letter=letter)\n",
    "\n",
    "\n",
    "        \n",
    "@app.route('/search_results',methods = ['POST','GET'])\n",
    "def search():\n",
    "    if request.method == 'POST':\n",
    "        s = str(request.form['keywords'])\n",
    "        text=''\n",
    "        text = re.sub(r'[^\\w\\s]','',s)\n",
    "        text = text.strip()\n",
    "        text = text.title()\n",
    "        text_a = nltk.word_tokenize(text)\n",
    "        text_s=[]\n",
    "        for word in text_a:\n",
    "            if (word not in stop_words):\n",
    "                text_s.append(word)\n",
    "        text_l = []\n",
    "        for word in text_s:\n",
    "            if word == 'boss':\n",
    "                text_l.append(word)\n",
    "            else: \n",
    "                text_l.append(lemmetizer.lemmatize(word))\n",
    "        text_f = []\n",
    "        for word in text_l:\n",
    "            if word not in unwanted_words:\n",
    "                text_f.append(word)\n",
    "            else:\n",
    "                pass\n",
    "        #Searching for keywords in the search column\n",
    "        result_in = []\n",
    "        for word in text_f:\n",
    "            for i in range (0,len(data)):\n",
    "                for j in range (0,len(data.iloc[i,1])):\n",
    "                    if data.iloc[i,1][j] not in text_f:\n",
    "                        pass\n",
    "                    else:\n",
    "                        result_in.append(int(i))\n",
    "        result_in.sort(reverse=False)\n",
    "        x = data.iloc[result_in]\n",
    "        x['priority'] = np.NaN\n",
    "        p = x.index.value_counts()\n",
    "        x = x.reset_index()\n",
    "        p = p.reset_index()\n",
    "        p = p.rename(columns={0:'priority'},inplace=False)\n",
    "        for i in range(0,len(x)):\n",
    "            ind = x['index'][i] \n",
    "            for j in range(0,len(p)):\n",
    "                if p['index'][j] == ind:\n",
    "                    pr = p['priority'][j]\n",
    "                else:\n",
    "                    pass\n",
    "            x['priority'][i] = pr\n",
    "        x = x.sort_values(by=['priority'],ascending=False)\n",
    "        x = x.drop_duplicates(subset=['index'])\n",
    "        x = x.drop(['index','Search_column','priority'],axis=1)\n",
    "        x = x.reset_index(drop=True)\n",
    "        #letter = 'Category: '+str(x.Category[0])+'\\nTitle: '+str(x.Title[0])+'\\n____________________________________________________________________________________________________________\\n'+str(x.Body[0])\n",
    "        #letter = letter.split('\\n')\n",
    "        cats = df.Category.to_list()\n",
    "        title_list = x.Title.to_list()\n",
    "    return render_template('keywordsearch.html',cat_list = cats,title_list=title_list)\n",
    "\n",
    "\n",
    "\n",
    "@app.route('/search_results/print',methods = ['POST','GET'])\n",
    "def print_search_results():\n",
    "    if request.method == 'POST':\n",
    "        s = str(request.form['title'])\n",
    "        b = data[data.Title == s]\n",
    "        b = b.reset_index(drop=True)\n",
    "        letter = 'Category: '+str(b.Category[0])+'\\nTitle: '+str(b.Title[0])+'\\n____________________________________________________________________________________________________________\\n'+str(b.Body[0])\n",
    "        letter = letter.split('\\n')\n",
    "        cats = df.Category.to_list()\n",
    "        c = data[data.Category == b.Category[0]]\n",
    "        title = c.Title.to_list()\n",
    "    return render_template('searchresultprint.html',letter = letter,cat_list = cats,title_list=title)\n",
    "\n",
    "\n",
    "\n",
    "\n",
    "if __name__ == '__main__':\n",
    "    app.run() "
   ]
  },
  {
   "cell_type": "markdown",
   "metadata": {},
   "source": [
    "# Final Combined Deployment"
   ]
  },
  {
   "cell_type": "code",
   "execution_count": null,
   "metadata": {
    "ExecuteTime": {
     "start_time": "2021-10-10T12:54:35.608Z"
    },
    "scrolled": true
   },
   "outputs": [
    {
     "name": "stdout",
     "output_type": "stream",
     "text": [
      " * Serving Flask app \"__main__\" (lazy loading)\n",
      " * Environment: production\n",
      "   WARNING: This is a development server. Do not use it in a production deployment.\n",
      "   Use a production WSGI server instead.\n",
      " * Debug mode: off\n"
     ]
    },
    {
     "name": "stderr",
     "output_type": "stream",
     "text": [
      " * Running on http://127.0.0.1:5000/ (Press CTRL+C to quit)\n"
     ]
    }
   ],
   "source": [
    "#****Importing Libraries****#\n",
    "\n",
    "import numpy as np\n",
    "import pandas as pd \n",
    "import string\n",
    "import warnings\n",
    "warnings.filterwarnings('ignore')\n",
    "import re\n",
    "\n",
    "#from textblob import TextBlob\n",
    "\n",
    "import nltk\n",
    "#nltk.download('punkt')\n",
    "#nltk.download('wordnet')\n",
    "\n",
    "import spacy\n",
    "\n",
    "from nltk.corpus import stopwords\n",
    "\n",
    "#Stemming\n",
    "#from nltk.stem import PorterStemmer\n",
    "#stemmer = PorterStemmer()\n",
    "\n",
    "#Lemmetization\n",
    "from nltk.stem import WordNetLemmatizer\n",
    "lemmetizer = WordNetLemmatizer()\n",
    "\n",
    "from flask import Flask, redirect, url_for, request,render_template\n",
    "\n",
    "#Initializing spacy model\n",
    "nlp = spacy.load('en_core_web_sm')\n",
    "\n",
    "#Words that we do not require after tokenization in the search term and the title column as well\n",
    "unwanted_words = ['Email','Sample','Letter','Template','email','sample','letter','template','to','To']\n",
    "\n",
    "#Punctuations\n",
    "#punctuations = '''()-[]{};:'\"\\,<>./?@#$%^&*_`~'''\n",
    "\n",
    "#Stopwords\n",
    "stop_words = stopwords.words('english')\n",
    "\n",
    "\n",
    "#****Importing Dataset and data Preprocessing****#\n",
    "\n",
    "#Reading the data set and preprocessing\n",
    "data = pd.read_excel('templates.xls')\n",
    "data = data.dropna()\n",
    "data = data.reset_index(drop=True)\n",
    "\n",
    "#Replacing 'Letter' with 'Email' || Replacing '-' with ' ' in the cat column\n",
    "for i in range (0,len(data)):\n",
    "    data.iloc[i,0] = data.iloc[i,0].replace('Letter','Email')\n",
    "    data.iloc[i,0] = data.iloc[i,0].replace('letter','Email')\n",
    "    data.iloc[i,1] = data.iloc[i,1].replace('Letter','Email')\n",
    "    data.iloc[i,1] = data.iloc[i,1].replace('letter','Email')\n",
    "    data.iloc[i,0] = data.iloc[i,0].replace('-',' ')\n",
    "\n",
    "#Adding Search column which will contain tokens of title and arranging the columns in order    \n",
    "data['Search_column'] = ''\n",
    "data = data[[\"Category\",\"Search_column\", \"Title\", \"Body\"]]\n",
    "\n",
    "#Removing the 'Download Related Samples...' from footer\n",
    "for i in range (0,len(data)):\n",
    "    txt = data.iloc[i,3]\n",
    "    txt0 = txt.split('\\nDownload ')[0]\n",
    "    data.iloc[i,3] = txt0\n",
    "\n",
    "#Removing address fields\n",
    "for i in range (0,len(data)):\n",
    "    list0 = data.Body[i].split('\\n')\n",
    "    list1 = []\n",
    "    for string in list0:\n",
    "        if len(string)> 50:\n",
    "            list1.append(string)\n",
    "    body = 'To: [Email id]\\n\\nSubject: [Subject]\\n\\n[Salutation]\\n\\n'\n",
    "    for j in list1:\n",
    "        body = body + j + '\\n\\n'\n",
    "    body = body + '[Closure]\\n\\n'+'[Name/Signature]\\n'+'[Designation]\\n'+'[Organization]\\n'\n",
    "    body = body.replace('Letter','Email')\n",
    "    body = body.replace('letter','email')\n",
    "    #print(body)\n",
    "    data.iloc[i,3] = body\n",
    "\n",
    "#Preprocessing the title column\n",
    "for i in range (0,len(data)):\n",
    "    tex = str(data.Title[i])\n",
    "    tex_p = ''\n",
    "    #for char in tex:\n",
    "    #    if (char not in punctuations):\n",
    "    #        tex_p = tex_p+char\n",
    "    tex_p = re.sub(r'[^\\w\\s]','',tex)\n",
    "    tex_p = tex_p.strip()\n",
    "    tex_a = nltk.word_tokenize(tex_p)\n",
    "    tex_s=[]\n",
    "    for word in tex_a:\n",
    "        if (word not in stop_words):\n",
    "            tex_s.append(word)\n",
    "    tex_l = []\n",
    "    for word in tex_s:\n",
    "        tex_l.append(lemmetizer.lemmatize(word))\n",
    "    tex_f = []\n",
    "    for word in tex_l:\n",
    "        if word not in unwanted_words:\n",
    "            tex_f.append(word)\n",
    "        else:\n",
    "            pass\n",
    "    data.iloc[i,1] = tex_f\n",
    "\n",
    "#Named Entity Recognition (Replacing named entities with their tags)\n",
    "for i in range(0,len(data)):\n",
    "    s= data.Body[i]\n",
    "    doc = nlp(s)\n",
    "    newString = s\n",
    "    for e in reversed(doc.ents): #reversed to not modify the offsets of other entities when substituting\n",
    "        start = e.start_char\n",
    "        end = start + len(e.text)\n",
    "        newString = newString[:start] + '[' + e.label_ + ']' + newString[end:]\n",
    "    data.Body[i] = newString\n",
    "    \n",
    "\n",
    "#****For future reference****#\n",
    "\n",
    "df = pd.DataFrame(data.Category.value_counts())\n",
    "df = df.reset_index()\n",
    "df = df.rename(columns={'index':'Category','Category':'N_Letters'})\n",
    "\n",
    "\n",
    "#****Deployment****#\n",
    "\n",
    "app = Flask(__name__)\n",
    "\n",
    "#app.static_folder = 'static'\n",
    "\n",
    "\n",
    "@app.route('/')\n",
    "def home_page():\n",
    "    cats = df.Category.to_list()\n",
    "    return render_template('index.html',cat_list = cats)\n",
    "\n",
    "\n",
    "\n",
    "@app.route('/category',methods = ['POST','GET'])\n",
    "def category():\n",
    "    cats = df.Category.to_list()\n",
    "    if request.method == 'POST':\n",
    "        s = str(request.form['cat'])\n",
    "        b = data[data.Category == s]\n",
    "        title = b.Title.to_list()\n",
    "    return render_template('cat_title.html',title_list=title,cat_list = cats)\n",
    "\n",
    "\n",
    "\n",
    "@app.route('/category/title',methods = ['POST','GET'])\n",
    "def cat_title():\n",
    "    if request.method == 'POST':\n",
    "        s = str(request.form['title'])\n",
    "        b = data[data.Title == s]\n",
    "        b = b.reset_index(drop=True)\n",
    "        letter = 'Category: '+str(b.Category[0])+'\\nTitle: '+str(b.Title[0])+'\\n____________________________________________________________________________________________________________\\n'+str(b.Body[0])\n",
    "        letter = letter.split('\\n')\n",
    "        cats = df.Category.to_list()\n",
    "        c = data[data.Category == b.Category[0]]\n",
    "        title = c.Title.to_list()\n",
    "    return render_template('print.html',title_list = title,cat_list = cats,letter=letter)\n",
    "\n",
    "\n",
    "        \n",
    "@app.route('/search_results',methods = ['POST','GET'])\n",
    "def search():\n",
    "    if request.method == 'POST':\n",
    "        s = str(request.form['keywords'])\n",
    "        text=''\n",
    "        text = re.sub(r'[^\\w\\s]','',s)\n",
    "        text = text.strip()\n",
    "        text = text.title()\n",
    "        text_a = nltk.word_tokenize(text)\n",
    "        text_s=[]\n",
    "        for word in text_a:\n",
    "            if (word not in stop_words):\n",
    "                text_s.append(word)\n",
    "        text_l = []\n",
    "        for word in text_s:\n",
    "            if word == 'boss':\n",
    "                text_l.append(word)\n",
    "            else: \n",
    "                text_l.append(lemmetizer.lemmatize(word))\n",
    "        text_f = []\n",
    "        for word in text_l:\n",
    "            if word not in unwanted_words:\n",
    "                text_f.append(word)\n",
    "            else:\n",
    "                pass\n",
    "        #Searching for keywords in the search column\n",
    "        result_in = []\n",
    "        for word in text_f:\n",
    "            for i in range (0,len(data)):\n",
    "                for j in range (0,len(data.iloc[i,1])):\n",
    "                    if data.iloc[i,1][j] not in text_f:\n",
    "                        pass\n",
    "                    else:\n",
    "                        result_in.append(int(i))\n",
    "        result_in.sort(reverse=False)\n",
    "        x = data.iloc[result_in]\n",
    "        x['priority'] = np.NaN\n",
    "        p = x.index.value_counts()\n",
    "        x = x.reset_index()\n",
    "        p = p.reset_index()\n",
    "        p = p.rename(columns={0:'priority'},inplace=False)\n",
    "        for i in range(0,len(x)):\n",
    "            ind = x['index'][i] \n",
    "            for j in range(0,len(p)):\n",
    "                if p['index'][j] == ind:\n",
    "                    pr = p['priority'][j]\n",
    "                else:\n",
    "                    pass\n",
    "            x['priority'][i] = pr\n",
    "        x = x.sort_values(by=['priority'],ascending=False)\n",
    "        x = x.drop_duplicates(subset=['index'])\n",
    "        x = x.drop(['index','Search_column','priority'],axis=1)\n",
    "        x = x.reset_index(drop=True)\n",
    "        #letter = 'Category: '+str(x.Category[0])+'\\nTitle: '+str(x.Title[0])+'\\n____________________________________________________________________________________________________________\\n'+str(x.Body[0])\n",
    "        #letter = letter.split('\\n')\n",
    "        cats = df.Category.to_list()\n",
    "        title_list = x.Title.to_list()\n",
    "    return render_template('keywordsearch.html',cat_list = cats,title_list=title_list)\n",
    "\n",
    "\n",
    "\n",
    "@app.route('/search_results/print',methods = ['POST','GET'])\n",
    "def print_search_results():\n",
    "    if request.method == 'POST':\n",
    "        s = str(request.form['title'])\n",
    "        b = data[data.Title == s]\n",
    "        b = b.reset_index(drop=True)\n",
    "        letter = 'Category: '+str(b.Category[0])+'\\nTitle: '+str(b.Title[0])+'\\n____________________________________________________________________________________________________________\\n'+str(b.Body[0])\n",
    "        letter = letter.split('\\n')\n",
    "        cats = df.Category.to_list()\n",
    "        c = data[data.Category == b.Category[0]]\n",
    "        title = c.Title.to_list()\n",
    "    return render_template('searchresultprint.html',letter = letter,cat_list = cats,title_list=title)\n",
    "\n",
    "\n",
    "\n",
    "\n",
    "if __name__ == '__main__':\n",
    "    app.run()"
   ]
  },
  {
   "cell_type": "code",
   "execution_count": null,
   "metadata": {},
   "outputs": [],
   "source": []
  }
 ],
 "metadata": {
  "kernelspec": {
   "display_name": "Python 3",
   "language": "python",
   "name": "python3"
  },
  "language_info": {
   "codemirror_mode": {
    "name": "ipython",
    "version": 3
   },
   "file_extension": ".py",
   "mimetype": "text/x-python",
   "name": "python",
   "nbconvert_exporter": "python",
   "pygments_lexer": "ipython3",
   "version": "3.8.3"
  },
  "varInspector": {
   "cols": {
    "lenName": 16,
    "lenType": 16,
    "lenVar": 40
   },
   "kernels_config": {
    "python": {
     "delete_cmd_postfix": "",
     "delete_cmd_prefix": "del ",
     "library": "var_list.py",
     "varRefreshCmd": "print(var_dic_list())"
    },
    "r": {
     "delete_cmd_postfix": ") ",
     "delete_cmd_prefix": "rm(",
     "library": "var_list.r",
     "varRefreshCmd": "cat(var_dic_list()) "
    }
   },
   "types_to_exclude": [
    "module",
    "function",
    "builtin_function_or_method",
    "instance",
    "_Feature"
   ],
   "window_display": false
  }
 },
 "nbformat": 4,
 "nbformat_minor": 4
}
